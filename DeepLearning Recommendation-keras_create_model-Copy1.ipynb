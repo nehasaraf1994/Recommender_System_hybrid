{
 "cells": [
  {
   "cell_type": "markdown",
   "metadata": {},
   "source": [
    "### This file is used to create the model represent the image of each item in our dataset as a vector of length 16."
   ]
  },
  {
   "cell_type": "markdown",
   "metadata": {},
   "source": [
    "#### Read user and item csv files"
   ]
  },
  {
   "cell_type": "code",
   "execution_count": 1,
   "metadata": {},
   "outputs": [],
   "source": [
    "import pandas as pd\n",
    "import gzip\n",
    "from PIL import Image\n",
    "from PIL import ImageOps\n",
    "import urllib.request as urllib\n",
    "import urllib.error as err\n",
    "\n",
    "import io\n",
    "import numpy as np\n",
    "\n",
    "def parse(path):\n",
    "    g = gzip.open(path, 'rb')\n",
    "    for line in g:\n",
    "        yield eval(line)\n",
    "\n",
    "def getDF(path):\n",
    "    i = 0\n",
    "    df = {}\n",
    "    for d in parse(path):\n",
    "        df[i] = d\n",
    "        i += 1\n",
    "    return pd.DataFrame.from_dict(df, orient='index')\n",
    "\n",
    "df = getDF('reviews_Clothing_Shoes_and_Jewelry_5.json.gz')"
   ]
  },
  {
   "cell_type": "code",
   "execution_count": 2,
   "metadata": {},
   "outputs": [
    {
     "data": {
      "text/html": [
       "<div>\n",
       "<style scoped>\n",
       "    .dataframe tbody tr th:only-of-type {\n",
       "        vertical-align: middle;\n",
       "    }\n",
       "\n",
       "    .dataframe tbody tr th {\n",
       "        vertical-align: top;\n",
       "    }\n",
       "\n",
       "    .dataframe thead th {\n",
       "        text-align: right;\n",
       "    }\n",
       "</style>\n",
       "<table border=\"1\" class=\"dataframe\">\n",
       "  <thead>\n",
       "    <tr style=\"text-align: right;\">\n",
       "      <th></th>\n",
       "      <th>reviewerID</th>\n",
       "      <th>asin</th>\n",
       "      <th>reviewerName</th>\n",
       "      <th>helpful</th>\n",
       "      <th>reviewText</th>\n",
       "      <th>overall</th>\n",
       "      <th>summary</th>\n",
       "      <th>unixReviewTime</th>\n",
       "      <th>reviewTime</th>\n",
       "    </tr>\n",
       "  </thead>\n",
       "  <tbody>\n",
       "    <tr>\n",
       "      <th>0</th>\n",
       "      <td>A1KLRMWW2FWPL4</td>\n",
       "      <td>0000031887</td>\n",
       "      <td>Amazon Customer \"cameramom\"</td>\n",
       "      <td>[0, 0]</td>\n",
       "      <td>This is a great tutu and at a really great pri...</td>\n",
       "      <td>5.0</td>\n",
       "      <td>Great tutu-  not cheaply made</td>\n",
       "      <td>1297468800</td>\n",
       "      <td>02 12, 2011</td>\n",
       "    </tr>\n",
       "    <tr>\n",
       "      <th>1</th>\n",
       "      <td>A2G5TCU2WDFZ65</td>\n",
       "      <td>0000031887</td>\n",
       "      <td>Amazon Customer</td>\n",
       "      <td>[0, 0]</td>\n",
       "      <td>I bought this for my 4 yr old daughter for dan...</td>\n",
       "      <td>5.0</td>\n",
       "      <td>Very Cute!!</td>\n",
       "      <td>1358553600</td>\n",
       "      <td>01 19, 2013</td>\n",
       "    </tr>\n",
       "    <tr>\n",
       "      <th>2</th>\n",
       "      <td>A1RLQXYNCMWRWN</td>\n",
       "      <td>0000031887</td>\n",
       "      <td>Carola</td>\n",
       "      <td>[0, 0]</td>\n",
       "      <td>What can I say... my daughters have it in oran...</td>\n",
       "      <td>5.0</td>\n",
       "      <td>I have buy more than one</td>\n",
       "      <td>1357257600</td>\n",
       "      <td>01 4, 2013</td>\n",
       "    </tr>\n",
       "    <tr>\n",
       "      <th>3</th>\n",
       "      <td>A8U3FAMSJVHS5</td>\n",
       "      <td>0000031887</td>\n",
       "      <td>Caromcg</td>\n",
       "      <td>[0, 0]</td>\n",
       "      <td>We bought several tutus at once, and they are ...</td>\n",
       "      <td>5.0</td>\n",
       "      <td>Adorable, Sturdy</td>\n",
       "      <td>1398556800</td>\n",
       "      <td>04 27, 2014</td>\n",
       "    </tr>\n",
       "    <tr>\n",
       "      <th>4</th>\n",
       "      <td>A3GEOILWLK86XM</td>\n",
       "      <td>0000031887</td>\n",
       "      <td>CJ</td>\n",
       "      <td>[0, 0]</td>\n",
       "      <td>Thank you Halo Heaven great product for Little...</td>\n",
       "      <td>5.0</td>\n",
       "      <td>Grammy's Angels Love it</td>\n",
       "      <td>1394841600</td>\n",
       "      <td>03 15, 2014</td>\n",
       "    </tr>\n",
       "    <tr>\n",
       "      <th>5</th>\n",
       "      <td>A27UF1MSF3DB2</td>\n",
       "      <td>0000031887</td>\n",
       "      <td>C-Lo \"Cynthia\"</td>\n",
       "      <td>[0, 0]</td>\n",
       "      <td>I received this today and I'm not a fan of it ...</td>\n",
       "      <td>4.0</td>\n",
       "      <td>It's ok</td>\n",
       "      <td>1396224000</td>\n",
       "      <td>03 31, 2014</td>\n",
       "    </tr>\n",
       "    <tr>\n",
       "      <th>6</th>\n",
       "      <td>A16GFPNVF4Y816</td>\n",
       "      <td>0000031887</td>\n",
       "      <td>design maven</td>\n",
       "      <td>[0, 0]</td>\n",
       "      <td>Bought this as a backup to the regular ballet ...</td>\n",
       "      <td>5.0</td>\n",
       "      <td>Great for dress-up and for ballet practice</td>\n",
       "      <td>1399075200</td>\n",
       "      <td>05 3, 2014</td>\n",
       "    </tr>\n",
       "    <tr>\n",
       "      <th>7</th>\n",
       "      <td>A2M2APVYIB2U6K</td>\n",
       "      <td>0000031887</td>\n",
       "      <td>Jamie P.</td>\n",
       "      <td>[0, 0]</td>\n",
       "      <td>Great tutu for a great price. It isn't a &amp;#34;...</td>\n",
       "      <td>5.0</td>\n",
       "      <td>Great value</td>\n",
       "      <td>1356220800</td>\n",
       "      <td>12 23, 2012</td>\n",
       "    </tr>\n",
       "    <tr>\n",
       "      <th>8</th>\n",
       "      <td>A1NJ71X3YPQNQ9</td>\n",
       "      <td>0000031887</td>\n",
       "      <td>JBerger</td>\n",
       "      <td>[0, 0]</td>\n",
       "      <td>My daughter liked this, and it with her costum...</td>\n",
       "      <td>4.0</td>\n",
       "      <td>Good</td>\n",
       "      <td>1384041600</td>\n",
       "      <td>11 10, 2013</td>\n",
       "    </tr>\n",
       "    <tr>\n",
       "      <th>9</th>\n",
       "      <td>A3EERSWHAI6SO</td>\n",
       "      <td>0000031887</td>\n",
       "      <td>Jeffrey Hollingshead \"Jillian hollingshead\"</td>\n",
       "      <td>[7, 8]</td>\n",
       "      <td>For what I paid for two tutus is unbeatable an...</td>\n",
       "      <td>5.0</td>\n",
       "      <td>WOW !! ..is all I have to say!</td>\n",
       "      <td>1349568000</td>\n",
       "      <td>10 7, 2012</td>\n",
       "    </tr>\n",
       "  </tbody>\n",
       "</table>\n",
       "</div>"
      ],
      "text/plain": [
       "       reviewerID        asin                                 reviewerName  \\\n",
       "0  A1KLRMWW2FWPL4  0000031887                  Amazon Customer \"cameramom\"   \n",
       "1  A2G5TCU2WDFZ65  0000031887                              Amazon Customer   \n",
       "2  A1RLQXYNCMWRWN  0000031887                                       Carola   \n",
       "3   A8U3FAMSJVHS5  0000031887                                      Caromcg   \n",
       "4  A3GEOILWLK86XM  0000031887                                           CJ   \n",
       "5   A27UF1MSF3DB2  0000031887                               C-Lo \"Cynthia\"   \n",
       "6  A16GFPNVF4Y816  0000031887                                 design maven   \n",
       "7  A2M2APVYIB2U6K  0000031887                                     Jamie P.   \n",
       "8  A1NJ71X3YPQNQ9  0000031887                                      JBerger   \n",
       "9   A3EERSWHAI6SO  0000031887  Jeffrey Hollingshead \"Jillian hollingshead\"   \n",
       "\n",
       "  helpful                                         reviewText  overall  \\\n",
       "0  [0, 0]  This is a great tutu and at a really great pri...      5.0   \n",
       "1  [0, 0]  I bought this for my 4 yr old daughter for dan...      5.0   \n",
       "2  [0, 0]  What can I say... my daughters have it in oran...      5.0   \n",
       "3  [0, 0]  We bought several tutus at once, and they are ...      5.0   \n",
       "4  [0, 0]  Thank you Halo Heaven great product for Little...      5.0   \n",
       "5  [0, 0]  I received this today and I'm not a fan of it ...      4.0   \n",
       "6  [0, 0]  Bought this as a backup to the regular ballet ...      5.0   \n",
       "7  [0, 0]  Great tutu for a great price. It isn't a &#34;...      5.0   \n",
       "8  [0, 0]  My daughter liked this, and it with her costum...      4.0   \n",
       "9  [7, 8]  For what I paid for two tutus is unbeatable an...      5.0   \n",
       "\n",
       "                                      summary  unixReviewTime   reviewTime  \n",
       "0               Great tutu-  not cheaply made      1297468800  02 12, 2011  \n",
       "1                                 Very Cute!!      1358553600  01 19, 2013  \n",
       "2                    I have buy more than one      1357257600   01 4, 2013  \n",
       "3                            Adorable, Sturdy      1398556800  04 27, 2014  \n",
       "4                     Grammy's Angels Love it      1394841600  03 15, 2014  \n",
       "5                                     It's ok      1396224000  03 31, 2014  \n",
       "6  Great for dress-up and for ballet practice      1399075200   05 3, 2014  \n",
       "7                                 Great value      1356220800  12 23, 2012  \n",
       "8                                        Good      1384041600  11 10, 2013  \n",
       "9              WOW !! ..is all I have to say!      1349568000   10 7, 2012  "
      ]
     },
     "execution_count": 2,
     "metadata": {},
     "output_type": "execute_result"
    }
   ],
   "source": [
    "df.head(10)"
   ]
  },
  {
   "cell_type": "code",
   "execution_count": 3,
   "metadata": {},
   "outputs": [],
   "source": [
    "import pandas as pd\n",
    "import gzip\n",
    "\n",
    "def parse(path):\n",
    "    g = gzip.open(path, 'rb')\n",
    "    for line in g:\n",
    "        yield eval(line)\n",
    "\n",
    "def getDF(path):\n",
    "    i = 0\n",
    "    df2 = {}\n",
    "    for d in parse(path):\n",
    "        df2[i] = d\n",
    "        i += 1\n",
    "    return pd.DataFrame.from_dict(df2, orient='index')\n",
    "\n",
    "df2 = getDF('meta_Clothing_Shoes_and_Jewelry.json.gz')"
   ]
  },
  {
   "cell_type": "code",
   "execution_count": 4,
   "metadata": {},
   "outputs": [
    {
     "data": {
      "text/html": [
       "<div>\n",
       "<style scoped>\n",
       "    .dataframe tbody tr th:only-of-type {\n",
       "        vertical-align: middle;\n",
       "    }\n",
       "\n",
       "    .dataframe tbody tr th {\n",
       "        vertical-align: top;\n",
       "    }\n",
       "\n",
       "    .dataframe thead th {\n",
       "        text-align: right;\n",
       "    }\n",
       "</style>\n",
       "<table border=\"1\" class=\"dataframe\">\n",
       "  <thead>\n",
       "    <tr style=\"text-align: right;\">\n",
       "      <th></th>\n",
       "      <th>asin</th>\n",
       "      <th>related</th>\n",
       "      <th>title</th>\n",
       "      <th>price</th>\n",
       "      <th>salesRank</th>\n",
       "      <th>imUrl</th>\n",
       "      <th>brand</th>\n",
       "      <th>categories</th>\n",
       "      <th>description</th>\n",
       "    </tr>\n",
       "  </thead>\n",
       "  <tbody>\n",
       "    <tr>\n",
       "      <th>0</th>\n",
       "      <td>0000037214</td>\n",
       "      <td>{'also_viewed': ['B00JO8II76', 'B00DGN4R1Q', '...</td>\n",
       "      <td>Purple Sequin Tiny Dancer Tutu Ballet Dance Fa...</td>\n",
       "      <td>6.99</td>\n",
       "      <td>{'Clothing': 1233557}</td>\n",
       "      <td>http://ecx.images-amazon.com/images/I/31mCncNu...</td>\n",
       "      <td>Big Dreams</td>\n",
       "      <td>[[Clothing, Shoes &amp; Jewelry, Girls], [Clothing...</td>\n",
       "      <td>NaN</td>\n",
       "    </tr>\n",
       "    <tr>\n",
       "      <th>1</th>\n",
       "      <td>0000031887</td>\n",
       "      <td>{'also_bought': ['0000031852', '0000031895', '...</td>\n",
       "      <td>Ballet Dress-Up Fairy Tutu</td>\n",
       "      <td>6.79</td>\n",
       "      <td>{'Sports &amp;amp; Outdoors': 8547}</td>\n",
       "      <td>http://ecx.images-amazon.com/images/I/314qZjYe...</td>\n",
       "      <td>Boutique Cutie</td>\n",
       "      <td>[[Clothing, Shoes &amp; Jewelry, Girls, Clothing, ...</td>\n",
       "      <td>This adorable basic ballerina tutu is perfect ...</td>\n",
       "    </tr>\n",
       "    <tr>\n",
       "      <th>2</th>\n",
       "      <td>0123456479</td>\n",
       "      <td>{'also_bought': ['B000BMTCK6', 'B0006JCGUM', '...</td>\n",
       "      <td>SHINING IMAGE HUGE PINK LEATHER JEWELRY BOX / ...</td>\n",
       "      <td>64.98</td>\n",
       "      <td>{'Kitchen &amp; Dining': 16987}</td>\n",
       "      <td>http://ecx.images-amazon.com/images/I/413tGhqo...</td>\n",
       "      <td>NaN</td>\n",
       "      <td>[[Clothing, Shoes &amp; Jewelry, Novelty, Costumes...</td>\n",
       "      <td>Elegance par excellence. Hand-crafted of the f...</td>\n",
       "    </tr>\n",
       "    <tr>\n",
       "      <th>3</th>\n",
       "      <td>0456844570</td>\n",
       "      <td>{'also_viewed': ['B008MTRT1O', 'B00BUG47S4', '...</td>\n",
       "      <td>RiZ Women's Beautify Crafted &amp;frac12; Rimmed F...</td>\n",
       "      <td>NaN</td>\n",
       "      <td>{'Clothing': 1180499}</td>\n",
       "      <td>http://ecx.images-amazon.com/images/I/31QZTHxv...</td>\n",
       "      <td>NaN</td>\n",
       "      <td>[[Clothing, Shoes &amp; Jewelry, Women, Accessorie...</td>\n",
       "      <td>NaN</td>\n",
       "    </tr>\n",
       "    <tr>\n",
       "      <th>4</th>\n",
       "      <td>0456808574</td>\n",
       "      <td>{'also_viewed': ['B00A6JD8EA', 'B00BFL4FTA', '...</td>\n",
       "      <td>Lantin White Visor Wrap Around Ski Style Aviat...</td>\n",
       "      <td>NaN</td>\n",
       "      <td>{'Clothing': 1038084}</td>\n",
       "      <td>http://ecx.images-amazon.com/images/I/31UsrgT5...</td>\n",
       "      <td>NaN</td>\n",
       "      <td>[[Clothing, Shoes &amp; Jewelry, Women, Accessorie...</td>\n",
       "      <td>NaN</td>\n",
       "    </tr>\n",
       "    <tr>\n",
       "      <th>5</th>\n",
       "      <td>0456830197</td>\n",
       "      <td>{'also_bought': ['729300236X']}</td>\n",
       "      <td>NVC Unisex Light Weight Silver 'Dakota' Glasse...</td>\n",
       "      <td>NaN</td>\n",
       "      <td>{'Shoes': 257607}</td>\n",
       "      <td>http://ecx.images-amazon.com/images/I/21PGEX1t...</td>\n",
       "      <td>NaN</td>\n",
       "      <td>[[Clothing, Shoes &amp; Jewelry, Women, Accessorie...</td>\n",
       "      <td>NaN</td>\n",
       "    </tr>\n",
       "    <tr>\n",
       "      <th>6</th>\n",
       "      <td>0456856293</td>\n",
       "      <td>{'also_viewed': ['B005P1HF2U', 'B006K5JWOE', '...</td>\n",
       "      <td>Kismeth Eyewear Classic Large Top Gun Aviator ...</td>\n",
       "      <td>NaN</td>\n",
       "      <td>{'Shoes': 399415}</td>\n",
       "      <td>http://ecx.images-amazon.com/images/I/31-NheYD...</td>\n",
       "      <td>NaN</td>\n",
       "      <td>[[Clothing, Shoes &amp; Jewelry, Women, Accessorie...</td>\n",
       "      <td>NaN</td>\n",
       "    </tr>\n",
       "    <tr>\n",
       "      <th>7</th>\n",
       "      <td>0456840532</td>\n",
       "      <td>{'also_viewed': ['B001K9DPPC', 'B00BV9MU2K', '...</td>\n",
       "      <td>Max-MPH Black - Large Wayfarer Sunglasses Avai...</td>\n",
       "      <td>NaN</td>\n",
       "      <td>{'Clothing': 2728771}</td>\n",
       "      <td>http://ecx.images-amazon.com/images/I/11q4qGCd...</td>\n",
       "      <td>NaN</td>\n",
       "      <td>[[Clothing, Shoes &amp; Jewelry, Women, Accessorie...</td>\n",
       "      <td>NaN</td>\n",
       "    </tr>\n",
       "    <tr>\n",
       "      <th>8</th>\n",
       "      <td>0456787283</td>\n",
       "      <td>{'also_viewed': ['B00AIPLH22', 'B005P1H8KO', '...</td>\n",
       "      <td>FX1 Small Adult Aviator Sunglasses with Silver...</td>\n",
       "      <td>NaN</td>\n",
       "      <td>{'Clothing': 456854}</td>\n",
       "      <td>http://ecx.images-amazon.com/images/I/31dS6eGu...</td>\n",
       "      <td>NaN</td>\n",
       "      <td>[[Clothing, Shoes &amp; Jewelry, Women, Accessorie...</td>\n",
       "      <td>NaN</td>\n",
       "    </tr>\n",
       "    <tr>\n",
       "      <th>9</th>\n",
       "      <td>0456838384</td>\n",
       "      <td>{'also_viewed': ['B001K9DPPC', 'B0042FHTDK', '...</td>\n",
       "      <td>Riz Small Unisex (Mens/ Womens) Black Classic ...</td>\n",
       "      <td>NaN</td>\n",
       "      <td>{'Clothing': 437391}</td>\n",
       "      <td>http://ecx.images-amazon.com/images/I/31b1J21i...</td>\n",
       "      <td>NaN</td>\n",
       "      <td>[[Clothing, Shoes &amp; Jewelry, Women, Accessorie...</td>\n",
       "      <td>NaN</td>\n",
       "    </tr>\n",
       "  </tbody>\n",
       "</table>\n",
       "</div>"
      ],
      "text/plain": [
       "         asin                                            related  \\\n",
       "0  0000037214  {'also_viewed': ['B00JO8II76', 'B00DGN4R1Q', '...   \n",
       "1  0000031887  {'also_bought': ['0000031852', '0000031895', '...   \n",
       "2  0123456479  {'also_bought': ['B000BMTCK6', 'B0006JCGUM', '...   \n",
       "3  0456844570  {'also_viewed': ['B008MTRT1O', 'B00BUG47S4', '...   \n",
       "4  0456808574  {'also_viewed': ['B00A6JD8EA', 'B00BFL4FTA', '...   \n",
       "5  0456830197                    {'also_bought': ['729300236X']}   \n",
       "6  0456856293  {'also_viewed': ['B005P1HF2U', 'B006K5JWOE', '...   \n",
       "7  0456840532  {'also_viewed': ['B001K9DPPC', 'B00BV9MU2K', '...   \n",
       "8  0456787283  {'also_viewed': ['B00AIPLH22', 'B005P1H8KO', '...   \n",
       "9  0456838384  {'also_viewed': ['B001K9DPPC', 'B0042FHTDK', '...   \n",
       "\n",
       "                                               title  price  \\\n",
       "0  Purple Sequin Tiny Dancer Tutu Ballet Dance Fa...   6.99   \n",
       "1                         Ballet Dress-Up Fairy Tutu   6.79   \n",
       "2  SHINING IMAGE HUGE PINK LEATHER JEWELRY BOX / ...  64.98   \n",
       "3  RiZ Women's Beautify Crafted &frac12; Rimmed F...    NaN   \n",
       "4  Lantin White Visor Wrap Around Ski Style Aviat...    NaN   \n",
       "5  NVC Unisex Light Weight Silver 'Dakota' Glasse...    NaN   \n",
       "6  Kismeth Eyewear Classic Large Top Gun Aviator ...    NaN   \n",
       "7  Max-MPH Black - Large Wayfarer Sunglasses Avai...    NaN   \n",
       "8  FX1 Small Adult Aviator Sunglasses with Silver...    NaN   \n",
       "9  Riz Small Unisex (Mens/ Womens) Black Classic ...    NaN   \n",
       "\n",
       "                         salesRank  \\\n",
       "0            {'Clothing': 1233557}   \n",
       "1  {'Sports &amp; Outdoors': 8547}   \n",
       "2      {'Kitchen & Dining': 16987}   \n",
       "3            {'Clothing': 1180499}   \n",
       "4            {'Clothing': 1038084}   \n",
       "5                {'Shoes': 257607}   \n",
       "6                {'Shoes': 399415}   \n",
       "7            {'Clothing': 2728771}   \n",
       "8             {'Clothing': 456854}   \n",
       "9             {'Clothing': 437391}   \n",
       "\n",
       "                                               imUrl           brand  \\\n",
       "0  http://ecx.images-amazon.com/images/I/31mCncNu...      Big Dreams   \n",
       "1  http://ecx.images-amazon.com/images/I/314qZjYe...  Boutique Cutie   \n",
       "2  http://ecx.images-amazon.com/images/I/413tGhqo...             NaN   \n",
       "3  http://ecx.images-amazon.com/images/I/31QZTHxv...             NaN   \n",
       "4  http://ecx.images-amazon.com/images/I/31UsrgT5...             NaN   \n",
       "5  http://ecx.images-amazon.com/images/I/21PGEX1t...             NaN   \n",
       "6  http://ecx.images-amazon.com/images/I/31-NheYD...             NaN   \n",
       "7  http://ecx.images-amazon.com/images/I/11q4qGCd...             NaN   \n",
       "8  http://ecx.images-amazon.com/images/I/31dS6eGu...             NaN   \n",
       "9  http://ecx.images-amazon.com/images/I/31b1J21i...             NaN   \n",
       "\n",
       "                                          categories  \\\n",
       "0  [[Clothing, Shoes & Jewelry, Girls], [Clothing...   \n",
       "1  [[Clothing, Shoes & Jewelry, Girls, Clothing, ...   \n",
       "2  [[Clothing, Shoes & Jewelry, Novelty, Costumes...   \n",
       "3  [[Clothing, Shoes & Jewelry, Women, Accessorie...   \n",
       "4  [[Clothing, Shoes & Jewelry, Women, Accessorie...   \n",
       "5  [[Clothing, Shoes & Jewelry, Women, Accessorie...   \n",
       "6  [[Clothing, Shoes & Jewelry, Women, Accessorie...   \n",
       "7  [[Clothing, Shoes & Jewelry, Women, Accessorie...   \n",
       "8  [[Clothing, Shoes & Jewelry, Women, Accessorie...   \n",
       "9  [[Clothing, Shoes & Jewelry, Women, Accessorie...   \n",
       "\n",
       "                                         description  \n",
       "0                                                NaN  \n",
       "1  This adorable basic ballerina tutu is perfect ...  \n",
       "2  Elegance par excellence. Hand-crafted of the f...  \n",
       "3                                                NaN  \n",
       "4                                                NaN  \n",
       "5                                                NaN  \n",
       "6                                                NaN  \n",
       "7                                                NaN  \n",
       "8                                                NaN  \n",
       "9                                                NaN  "
      ]
     },
     "execution_count": 4,
     "metadata": {},
     "output_type": "execute_result"
    }
   ],
   "source": [
    "df2.head(10)"
   ]
  },
  {
   "cell_type": "markdown",
   "metadata": {},
   "source": [
    "#### Use an autoencoder to reduce dimensionality of each image in our dataset"
   ]
  },
  {
   "cell_type": "markdown",
   "metadata": {},
   "source": [
    "#### Get_image array function opens the image url and creates 28 * 28 * 3 array for each image"
   ]
  },
  {
   "cell_type": "code",
   "execution_count": 5,
   "metadata": {},
   "outputs": [],
   "source": [
    "def get_image_array(url):\n",
    "    if isinstance(url, str):\n",
    "        try:\n",
    "            fd = urllib.urlopen(url)\n",
    "            image_file = io.BytesIO(fd.read())\n",
    "            im = Image.open(image_file)\n",
    "            size = 28, 28\n",
    "            img = im.resize(size, Image.ANTIALIAS)\n",
    "            img = img.convert(mode=\"RGB\")\n",
    "          \n",
    "            return np.array(img)\n",
    "        except err.HTTPError as error:\n",
    "            return np.ones([28,28,3],dtype=int)\n",
    "    "
   ]
  },
  {
   "cell_type": "markdown",
   "metadata": {},
   "source": [
    "#### Create a subset for training autoencoder model"
   ]
  },
  {
   "cell_type": "code",
   "execution_count": 6,
   "metadata": {},
   "outputs": [],
   "source": [
    "df2 = df2[:60000]"
   ]
  },
  {
   "cell_type": "markdown",
   "metadata": {},
   "source": [
    "#### Apply get_image_array function to each item in our subset and create a list of images in train set"
   ]
  },
  {
   "cell_type": "code",
   "execution_count": 7,
   "metadata": {},
   "outputs": [],
   "source": [
    "df2['img_array'] = df2.apply (lambda row: get_image_array(row['imUrl']),axis=1)"
   ]
  },
  {
   "cell_type": "code",
   "execution_count": 8,
   "metadata": {},
   "outputs": [],
   "source": [
    "train_images = df2[\"img_array\"].tolist()"
   ]
  },
  {
   "cell_type": "markdown",
   "metadata": {},
   "source": [
    "#### Assume array of zeros for items where the image url did not work"
   ]
  },
  {
   "cell_type": "code",
   "execution_count": null,
   "metadata": {},
   "outputs": [],
   "source": [
    "for i in range(0,len(train_images)):\n",
    "    if (isinstance(train_images[i],np.ndarray)):\n",
    "        if (train_images[i].shape!= (28,28,3) ):\n",
    "            print(i)\n",
    "    else:\n",
    "        train_images[i]=np.zeros([28,28,3],dtype=int)\n",
    "len(train_images)"
   ]
  },
  {
   "cell_type": "code",
   "execution_count": 10,
   "metadata": {},
   "outputs": [
    {
     "data": {
      "text/plain": [
       "(28, 28, 3)"
      ]
     },
     "execution_count": 10,
     "metadata": {},
     "output_type": "execute_result"
    }
   ],
   "source": [
    "train_images[0].shape"
   ]
  },
  {
   "cell_type": "code",
   "execution_count": 11,
   "metadata": {},
   "outputs": [
    {
     "name": "stderr",
     "output_type": "stream",
     "text": [
      "Using TensorFlow backend.\n"
     ]
    }
   ],
   "source": [
    "import numpy as np\n",
    "from keras.layers import Input, Conv2D, MaxPooling2D, UpSampling2D\n",
    "from keras.models import Model\n",
    "import matplotlib.pyplot as plt\n",
    "from sklearn.model_selection import train_test_split\n",
    "%matplotlib inline"
   ]
  },
  {
   "cell_type": "markdown",
   "metadata": {},
   "source": [
    "#### Split subset into train and test sets"
   ]
  },
  {
   "cell_type": "code",
   "execution_count": 12,
   "metadata": {},
   "outputs": [],
   "source": [
    "X_train2, X_test2 = train_test_split(train_images, test_size=0.2, random_state=42)"
   ]
  },
  {
   "cell_type": "code",
   "execution_count": 13,
   "metadata": {},
   "outputs": [
    {
     "data": {
      "text/plain": [
       "(12000, 28, 28, 3)"
      ]
     },
     "execution_count": 13,
     "metadata": {},
     "output_type": "execute_result"
    }
   ],
   "source": [
    "X_test = np.array(X_test2)\n",
    "X_test.shape"
   ]
  },
  {
   "cell_type": "code",
   "execution_count": 14,
   "metadata": {},
   "outputs": [
    {
     "data": {
      "text/plain": [
       "(48000, 28, 28, 3)"
      ]
     },
     "execution_count": 14,
     "metadata": {},
     "output_type": "execute_result"
    }
   ],
   "source": [
    "X_train = np.array(X_train2)\n",
    "X_train.shape"
   ]
  },
  {
   "cell_type": "markdown",
   "metadata": {},
   "source": [
    "#### Normalize all images"
   ]
  },
  {
   "cell_type": "code",
   "execution_count": 15,
   "metadata": {},
   "outputs": [],
   "source": [
    "X_train = X_train.astype('float32') / 255.\n",
    "X_test = X_test.astype('float32') / 255."
   ]
  },
  {
   "cell_type": "markdown",
   "metadata": {},
   "source": [
    "#### Train autoencoder model using Keras that takes a 28 * 28 * 3 image as input. The encoder layer outputs a 4 * 4 * 1 array that represents the image"
   ]
  },
  {
   "cell_type": "code",
   "execution_count": 73,
   "metadata": {},
   "outputs": [],
   "source": [
    "input_img = Input(shape=(28,28,3))\n",
    "x = Conv2D(16,(3,3), activation='relu', padding='same')(input_img)\n",
    "x = MaxPooling2D((2,2), padding='same')(x)\n",
    "x = Conv2D(8,(3,3), activation='relu', padding='same')(x)\n",
    "x = MaxPooling2D((2,2), padding='same')(x)\n",
    "x = Conv2D(8,(3,3), activation='relu', padding='same')(x)\n",
    "x = MaxPooling2D((2,2), padding='same')(x)\n",
    "x = Conv2D(1,(3,3), activation='relu', padding='same')(x)\n",
    "encoded = MaxPooling2D((1,1), padding='same', name=\"encoder\")(x)\n",
    "\n",
    "x = Conv2D(1,(3,3), activation='relu', padding='same')(encoded)\n",
    "x = UpSampling2D((1, 1))(x)\n",
    "x = Conv2D(8, (3, 3), activation='relu', padding='same')(x)\n",
    "x = UpSampling2D((2, 2))(x)\n",
    "x = Conv2D(8, (3, 3), activation='relu', padding='same')(x)\n",
    "x = UpSampling2D((2, 2))(x)\n",
    "x = Conv2D(16, (3, 3), activation='relu')(x)\n",
    "x = UpSampling2D((2, 2))(x)\n",
    "decoded = Conv2D(3, (3, 3), activation='sigmoid', padding='same')(x)\n",
    "\n",
    "autoencoder = Model(input_img, decoded)\n",
    "autoencoder.compile(optimizer='adam', loss='mse')"
   ]
  },
  {
   "cell_type": "code",
   "execution_count": 74,
   "metadata": {},
   "outputs": [
    {
     "name": "stdout",
     "output_type": "stream",
     "text": [
      "Epoch 1/5\n",
      "48000/48000 [==============================] - 90s 2ms/step - loss: 0.0374\n",
      "Epoch 2/5\n",
      "48000/48000 [==============================] - 90s 2ms/step - loss: 0.0254\n",
      "Epoch 3/5\n",
      "48000/48000 [==============================] - 91s 2ms/step - loss: 0.0236\n",
      "Epoch 4/5\n",
      "48000/48000 [==============================] - 89s 2ms/step - loss: 0.0228\n",
      "Epoch 5/5\n",
      "48000/48000 [==============================] - 89s 2ms/step - loss: 0.0222\n"
     ]
    },
    {
     "data": {
      "text/plain": [
       "<keras.callbacks.History at 0x2510a903160>"
      ]
     },
     "execution_count": 74,
     "metadata": {},
     "output_type": "execute_result"
    }
   ],
   "source": [
    "autoencoder.fit(X_train, X_train, epochs=5, batch_size=32, callbacks=None )"
   ]
  },
  {
   "cell_type": "markdown",
   "metadata": {},
   "source": [
    "#### Layers in autoencoder model"
   ]
  },
  {
   "cell_type": "code",
   "execution_count": 75,
   "metadata": {},
   "outputs": [
    {
     "name": "stdout",
     "output_type": "stream",
     "text": [
      "_________________________________________________________________\n",
      "Layer (type)                 Output Shape              Param #   \n",
      "=================================================================\n",
      "input_3 (InputLayer)         (None, 28, 28, 3)         0         \n",
      "_________________________________________________________________\n",
      "conv2d_19 (Conv2D)           (None, 28, 28, 16)        448       \n",
      "_________________________________________________________________\n",
      "max_pooling2d_7 (MaxPooling2 (None, 14, 14, 16)        0         \n",
      "_________________________________________________________________\n",
      "conv2d_20 (Conv2D)           (None, 14, 14, 8)         1160      \n",
      "_________________________________________________________________\n",
      "max_pooling2d_8 (MaxPooling2 (None, 7, 7, 8)           0         \n",
      "_________________________________________________________________\n",
      "conv2d_21 (Conv2D)           (None, 7, 7, 8)           584       \n",
      "_________________________________________________________________\n",
      "max_pooling2d_9 (MaxPooling2 (None, 4, 4, 8)           0         \n",
      "_________________________________________________________________\n",
      "conv2d_22 (Conv2D)           (None, 4, 4, 1)           73        \n",
      "_________________________________________________________________\n",
      "encoder (MaxPooling2D)       (None, 4, 4, 1)           0         \n",
      "_________________________________________________________________\n",
      "conv2d_23 (Conv2D)           (None, 4, 4, 1)           10        \n",
      "_________________________________________________________________\n",
      "up_sampling2d_9 (UpSampling2 (None, 4, 4, 1)           0         \n",
      "_________________________________________________________________\n",
      "conv2d_24 (Conv2D)           (None, 4, 4, 8)           80        \n",
      "_________________________________________________________________\n",
      "up_sampling2d_10 (UpSampling (None, 8, 8, 8)           0         \n",
      "_________________________________________________________________\n",
      "conv2d_25 (Conv2D)           (None, 8, 8, 8)           584       \n",
      "_________________________________________________________________\n",
      "up_sampling2d_11 (UpSampling (None, 16, 16, 8)         0         \n",
      "_________________________________________________________________\n",
      "conv2d_26 (Conv2D)           (None, 14, 14, 16)        1168      \n",
      "_________________________________________________________________\n",
      "up_sampling2d_12 (UpSampling (None, 28, 28, 16)        0         \n",
      "_________________________________________________________________\n",
      "conv2d_27 (Conv2D)           (None, 28, 28, 3)         435       \n",
      "=================================================================\n",
      "Total params: 4,542\n",
      "Trainable params: 4,542\n",
      "Non-trainable params: 0\n",
      "_________________________________________________________________\n"
     ]
    }
   ],
   "source": [
    "autoencoder.summary()"
   ]
  },
  {
   "cell_type": "markdown",
   "metadata": {},
   "source": [
    "#### Test outputs of encoder layer"
   ]
  },
  {
   "cell_type": "code",
   "execution_count": 76,
   "metadata": {},
   "outputs": [],
   "source": [
    "encoder = Model(inputs=autoencoder.input, outputs=autoencoder.get_layer('encoder').output)"
   ]
  },
  {
   "cell_type": "markdown",
   "metadata": {},
   "source": [
    "#### Assume a test image"
   ]
  },
  {
   "cell_type": "code",
   "execution_count": 117,
   "metadata": {},
   "outputs": [
    {
     "data": {
      "text/plain": [
       "<matplotlib.image.AxesImage at 0x251687eadd8>"
      ]
     },
     "execution_count": 117,
     "metadata": {},
     "output_type": "execute_result"
    },
    {
     "data": {
      "image/png": "[encoded data removed]",
      "text/plain": [
       "<Figure size 432x288 with 1 Axes>"
      ]
     },
     "metadata": {
      "needs_background": "light"
     },
     "output_type": "display_data"
    }
   ],
   "source": [
    "test= X_test[7]\n",
    "plt.imshow(query, cmap='gray')"
   ]
  },
  {
   "cell_type": "markdown",
   "metadata": {},
   "source": [
    "#### Get vectors for test image and all images in test set"
   ]
  },
  {
   "cell_type": "code",
   "execution_count": 118,
   "metadata": {},
   "outputs": [],
   "source": [
    "vectors = encoder.predict(X_test)"
   ]
  },
  {
   "cell_type": "code",
   "execution_count": 119,
   "metadata": {},
   "outputs": [],
   "source": [
    "test_vectors = encoder.predict(test.reshape(1,28,28,3))"
   ]
  },
  {
   "cell_type": "markdown",
   "metadata": {},
   "source": [
    "#### Get nearest neighbours for test image vector from set of all image vectors in test set"
   ]
  },
  {
   "cell_type": "code",
   "execution_count": 120,
   "metadata": {},
   "outputs": [],
   "source": [
    "from sklearn.neighbors import NearestNeighbors"
   ]
  },
  {
   "cell_type": "code",
   "execution_count": 121,
   "metadata": {},
   "outputs": [],
   "source": [
    "n_neigh = 10"
   ]
  },
  {
   "cell_type": "code",
   "execution_count": 122,
   "metadata": {},
   "outputs": [
    {
     "name": "stdout",
     "output_type": "stream",
     "text": [
      "(12000, 16)\n",
      "(1, 16)\n"
     ]
    }
   ],
   "source": [
    "vectors  = vectors .reshape(-1, 4*4*1); print(vectors.shape)\n",
    "test_vectors = test_vectors.reshape(1, 4*4*1); print(test_vectors.shape)"
   ]
  },
  {
   "cell_type": "code",
   "execution_count": 123,
   "metadata": {},
   "outputs": [],
   "source": [
    "nbrs = NearestNeighbors(n_neighbors=n_neigh).fit(vectors)"
   ]
  },
  {
   "cell_type": "code",
   "execution_count": 124,
   "metadata": {},
   "outputs": [],
   "source": [
    "distances, indices = nbrs.kneighbors(np.array(test_vectors))"
   ]
  },
  {
   "cell_type": "code",
   "execution_count": 125,
   "metadata": {},
   "outputs": [],
   "source": [
    "closest_images = X_test[indices]"
   ]
  },
  {
   "cell_type": "code",
   "execution_count": 126,
   "metadata": {},
   "outputs": [
    {
     "name": "stdout",
     "output_type": "stream",
     "text": [
      "(10, 28, 28, 3)\n"
     ]
    }
   ],
   "source": [
    "closest_images = closest_images.reshape(-1,28,28,3); \n",
    "print(closest_images.shape)"
   ]
  },
  {
   "cell_type": "markdown",
   "metadata": {},
   "source": [
    "#### Test image"
   ]
  },
  {
   "cell_type": "code",
   "execution_count": 127,
   "metadata": {},
   "outputs": [
    {
     "data": {
      "text/plain": [
       "<matplotlib.image.AxesImage at 0x25167ac0550>"
      ]
     },
     "execution_count": 127,
     "metadata": {},
     "output_type": "execute_result"
    },
    {
     "data": {
      "image/png": "[encoded data removed]",
      "text/plain": [
       "<Figure size 432x288 with 1 Axes>"
      ]
     },
     "metadata": {
      "needs_background": "light"
     },
     "output_type": "display_data"
    }
   ],
   "source": [
    "plt.imshow(test, cmap='gray')"
   ]
  },
  {
   "cell_type": "markdown",
   "metadata": {},
   "source": [
    "#### Nearest neighbours of test image"
   ]
  },
  {
   "cell_type": "code",
   "execution_count": 128,
   "metadata": {},
   "outputs": [
    {
     "data": {
      "image/png": "[encoded data removed]",
      "text/plain": [
       "<Figure size 1440x432 with 10 Axes>"
      ]
     },
     "metadata": {
      "needs_background": "light"
     },
     "output_type": "display_data"
    }
   ],
   "source": [
    "\n",
    "plt.figure(figsize=(20, 6))\n",
    "for i in range(n_neigh):\n",
    "    ax = plt.subplot(1, n_neigh, i+1)\n",
    "    plt.imshow(closest_images[i])\n",
    "    plt.gray()\n",
    "    ax.get_xaxis().set_visible(False)\n",
    "    ax.get_yaxis().set_visible(False)\n",
    "    \n",
    "plt.show()"
   ]
  },
  {
   "cell_type": "markdown",
   "metadata": {},
   "source": [
    "#### Result: The closest images obtained are very similar to test image"
   ]
  },
  {
   "cell_type": "markdown",
   "metadata": {},
   "source": [
    "#### Save the model"
   ]
  },
  {
   "cell_type": "code",
   "execution_count": 115,
   "metadata": {},
   "outputs": [],
   "source": [
    "encoder.save('encoder2.h5')"
   ]
  },
  {
   "cell_type": "code",
   "execution_count": null,
   "metadata": {},
   "outputs": [],
   "source": []
  }
 ],
 "metadata": {
  "kernelspec": {
   "display_name": "env2",
   "language": "python",
   "name": "env2"
  },
  "language_info": {
   "codemirror_mode": {
    "name": "ipython",
    "version": 3
   },
   "file_extension": ".py",
   "mimetype": "text/x-python",
   "name": "python",
   "nbconvert_exporter": "python",
   "pygments_lexer": "ipython3",
   "version": "3.6.6"
  }
 },
 "nbformat": 4,
 "nbformat_minor": 2
}
