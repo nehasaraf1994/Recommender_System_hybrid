{
 "cells": [
  {
   "cell_type": "markdown",
   "metadata": {},
   "source": [
    "### This file is used to create a doc2vec model for all the textual information available for items"
   ]
  },
  {
   "cell_type": "markdown",
   "metadata": {},
   "source": [
    "#### Read user and item csv files"
   ]
  },
  {
   "cell_type": "code",
   "execution_count": 1,
   "metadata": {},
   "outputs": [],
   "source": [
    "import pandas as pd\n",
    "import gzip\n",
    "from PIL import Image\n",
    "from PIL import ImageOps\n",
    "import urllib.request as urllib\n",
    "import io\n",
    "import numpy as np\n",
    "\n",
    "def parse(path):\n",
    "    g = gzip.open(path, 'rb')\n",
    "    for line in g:\n",
    "        yield eval(line)\n",
    "\n",
    "def getDF(path):\n",
    "    i = 0\n",
    "    df = {}\n",
    "    for d in parse(path):\n",
    "        df[i] = d\n",
    "        i += 1\n",
    "    return pd.DataFrame.from_dict(df, orient='index')\n",
    "\n",
    "df = getDF('reviews_Clothing_Shoes_and_Jewelry_5.json.gz')"
   ]
  },
  {
   "cell_type": "code",
   "execution_count": 2,
   "metadata": {},
   "outputs": [
    {
     "data": {
      "text/html": [
       "<div>\n",
       "<style scoped>\n",
       "    .dataframe tbody tr th:only-of-type {\n",
       "        vertical-align: middle;\n",
       "    }\n",
       "\n",
       "    .dataframe tbody tr th {\n",
       "        vertical-align: top;\n",
       "    }\n",
       "\n",
       "    .dataframe thead th {\n",
       "        text-align: right;\n",
       "    }\n",
       "</style>\n",
       "<table border=\"1\" class=\"dataframe\">\n",
       "  <thead>\n",
       "    <tr style=\"text-align: right;\">\n",
       "      <th></th>\n",
       "      <th>reviewerID</th>\n",
       "      <th>asin</th>\n",
       "      <th>reviewerName</th>\n",
       "      <th>helpful</th>\n",
       "      <th>reviewText</th>\n",
       "      <th>overall</th>\n",
       "      <th>summary</th>\n",
       "      <th>unixReviewTime</th>\n",
       "      <th>reviewTime</th>\n",
       "    </tr>\n",
       "  </thead>\n",
       "  <tbody>\n",
       "    <tr>\n",
       "      <th>0</th>\n",
       "      <td>A1KLRMWW2FWPL4</td>\n",
       "      <td>0000031887</td>\n",
       "      <td>Amazon Customer \"cameramom\"</td>\n",
       "      <td>[0, 0]</td>\n",
       "      <td>This is a great tutu and at a really great pri...</td>\n",
       "      <td>5.0</td>\n",
       "      <td>Great tutu-  not cheaply made</td>\n",
       "      <td>1297468800</td>\n",
       "      <td>02 12, 2011</td>\n",
       "    </tr>\n",
       "    <tr>\n",
       "      <th>1</th>\n",
       "      <td>A2G5TCU2WDFZ65</td>\n",
       "      <td>0000031887</td>\n",
       "      <td>Amazon Customer</td>\n",
       "      <td>[0, 0]</td>\n",
       "      <td>I bought this for my 4 yr old daughter for dan...</td>\n",
       "      <td>5.0</td>\n",
       "      <td>Very Cute!!</td>\n",
       "      <td>1358553600</td>\n",
       "      <td>01 19, 2013</td>\n",
       "    </tr>\n",
       "    <tr>\n",
       "      <th>2</th>\n",
       "      <td>A1RLQXYNCMWRWN</td>\n",
       "      <td>0000031887</td>\n",
       "      <td>Carola</td>\n",
       "      <td>[0, 0]</td>\n",
       "      <td>What can I say... my daughters have it in oran...</td>\n",
       "      <td>5.0</td>\n",
       "      <td>I have buy more than one</td>\n",
       "      <td>1357257600</td>\n",
       "      <td>01 4, 2013</td>\n",
       "    </tr>\n",
       "    <tr>\n",
       "      <th>3</th>\n",
       "      <td>A8U3FAMSJVHS5</td>\n",
       "      <td>0000031887</td>\n",
       "      <td>Caromcg</td>\n",
       "      <td>[0, 0]</td>\n",
       "      <td>We bought several tutus at once, and they are ...</td>\n",
       "      <td>5.0</td>\n",
       "      <td>Adorable, Sturdy</td>\n",
       "      <td>1398556800</td>\n",
       "      <td>04 27, 2014</td>\n",
       "    </tr>\n",
       "    <tr>\n",
       "      <th>4</th>\n",
       "      <td>A3GEOILWLK86XM</td>\n",
       "      <td>0000031887</td>\n",
       "      <td>CJ</td>\n",
       "      <td>[0, 0]</td>\n",
       "      <td>Thank you Halo Heaven great product for Little...</td>\n",
       "      <td>5.0</td>\n",
       "      <td>Grammy's Angels Love it</td>\n",
       "      <td>1394841600</td>\n",
       "      <td>03 15, 2014</td>\n",
       "    </tr>\n",
       "    <tr>\n",
       "      <th>5</th>\n",
       "      <td>A27UF1MSF3DB2</td>\n",
       "      <td>0000031887</td>\n",
       "      <td>C-Lo \"Cynthia\"</td>\n",
       "      <td>[0, 0]</td>\n",
       "      <td>I received this today and I'm not a fan of it ...</td>\n",
       "      <td>4.0</td>\n",
       "      <td>It's ok</td>\n",
       "      <td>1396224000</td>\n",
       "      <td>03 31, 2014</td>\n",
       "    </tr>\n",
       "    <tr>\n",
       "      <th>6</th>\n",
       "      <td>A16GFPNVF4Y816</td>\n",
       "      <td>0000031887</td>\n",
       "      <td>design maven</td>\n",
       "      <td>[0, 0]</td>\n",
       "      <td>Bought this as a backup to the regular ballet ...</td>\n",
       "      <td>5.0</td>\n",
       "      <td>Great for dress-up and for ballet practice</td>\n",
       "      <td>1399075200</td>\n",
       "      <td>05 3, 2014</td>\n",
       "    </tr>\n",
       "    <tr>\n",
       "      <th>7</th>\n",
       "      <td>A2M2APVYIB2U6K</td>\n",
       "      <td>0000031887</td>\n",
       "      <td>Jamie P.</td>\n",
       "      <td>[0, 0]</td>\n",
       "      <td>Great tutu for a great price. It isn't a &amp;#34;...</td>\n",
       "      <td>5.0</td>\n",
       "      <td>Great value</td>\n",
       "      <td>1356220800</td>\n",
       "      <td>12 23, 2012</td>\n",
       "    </tr>\n",
       "    <tr>\n",
       "      <th>8</th>\n",
       "      <td>A1NJ71X3YPQNQ9</td>\n",
       "      <td>0000031887</td>\n",
       "      <td>JBerger</td>\n",
       "      <td>[0, 0]</td>\n",
       "      <td>My daughter liked this, and it with her costum...</td>\n",
       "      <td>4.0</td>\n",
       "      <td>Good</td>\n",
       "      <td>1384041600</td>\n",
       "      <td>11 10, 2013</td>\n",
       "    </tr>\n",
       "    <tr>\n",
       "      <th>9</th>\n",
       "      <td>A3EERSWHAI6SO</td>\n",
       "      <td>0000031887</td>\n",
       "      <td>Jeffrey Hollingshead \"Jillian hollingshead\"</td>\n",
       "      <td>[7, 8]</td>\n",
       "      <td>For what I paid for two tutus is unbeatable an...</td>\n",
       "      <td>5.0</td>\n",
       "      <td>WOW !! ..is all I have to say!</td>\n",
       "      <td>1349568000</td>\n",
       "      <td>10 7, 2012</td>\n",
       "    </tr>\n",
       "  </tbody>\n",
       "</table>\n",
       "</div>"
      ],
      "text/plain": [
       "       reviewerID        asin                                 reviewerName  \\\n",
       "0  A1KLRMWW2FWPL4  0000031887                  Amazon Customer \"cameramom\"   \n",
       "1  A2G5TCU2WDFZ65  0000031887                              Amazon Customer   \n",
       "2  A1RLQXYNCMWRWN  0000031887                                       Carola   \n",
       "3   A8U3FAMSJVHS5  0000031887                                      Caromcg   \n",
       "4  A3GEOILWLK86XM  0000031887                                           CJ   \n",
       "5   A27UF1MSF3DB2  0000031887                               C-Lo \"Cynthia\"   \n",
       "6  A16GFPNVF4Y816  0000031887                                 design maven   \n",
       "7  A2M2APVYIB2U6K  0000031887                                     Jamie P.   \n",
       "8  A1NJ71X3YPQNQ9  0000031887                                      JBerger   \n",
       "9   A3EERSWHAI6SO  0000031887  Jeffrey Hollingshead \"Jillian hollingshead\"   \n",
       "\n",
       "  helpful                                         reviewText  overall  \\\n",
       "0  [0, 0]  This is a great tutu and at a really great pri...      5.0   \n",
       "1  [0, 0]  I bought this for my 4 yr old daughter for dan...      5.0   \n",
       "2  [0, 0]  What can I say... my daughters have it in oran...      5.0   \n",
       "3  [0, 0]  We bought several tutus at once, and they are ...      5.0   \n",
       "4  [0, 0]  Thank you Halo Heaven great product for Little...      5.0   \n",
       "5  [0, 0]  I received this today and I'm not a fan of it ...      4.0   \n",
       "6  [0, 0]  Bought this as a backup to the regular ballet ...      5.0   \n",
       "7  [0, 0]  Great tutu for a great price. It isn't a &#34;...      5.0   \n",
       "8  [0, 0]  My daughter liked this, and it with her costum...      4.0   \n",
       "9  [7, 8]  For what I paid for two tutus is unbeatable an...      5.0   \n",
       "\n",
       "                                      summary  unixReviewTime   reviewTime  \n",
       "0               Great tutu-  not cheaply made      1297468800  02 12, 2011  \n",
       "1                                 Very Cute!!      1358553600  01 19, 2013  \n",
       "2                    I have buy more than one      1357257600   01 4, 2013  \n",
       "3                            Adorable, Sturdy      1398556800  04 27, 2014  \n",
       "4                     Grammy's Angels Love it      1394841600  03 15, 2014  \n",
       "5                                     It's ok      1396224000  03 31, 2014  \n",
       "6  Great for dress-up and for ballet practice      1399075200   05 3, 2014  \n",
       "7                                 Great value      1356220800  12 23, 2012  \n",
       "8                                        Good      1384041600  11 10, 2013  \n",
       "9              WOW !! ..is all I have to say!      1349568000   10 7, 2012  "
      ]
     },
     "execution_count": 2,
     "metadata": {},
     "output_type": "execute_result"
    }
   ],
   "source": [
    "df.head(10)"
   ]
  },
  {
   "cell_type": "code",
   "execution_count": 3,
   "metadata": {},
   "outputs": [],
   "source": [
    "import pandas as pd\n",
    "import gzip\n",
    "\n",
    "def parse(path):\n",
    "    g = gzip.open(path, 'rb')\n",
    "    for line in g:\n",
    "        yield eval(line)\n",
    "\n",
    "def getDF(path):\n",
    "    i = 0\n",
    "    df2 = {}\n",
    "    for d in parse(path):\n",
    "        df2[i] = d\n",
    "        i += 1\n",
    "    return pd.DataFrame.from_dict(df2, orient='index')\n",
    "\n",
    "df2 = getDF('meta_Clothing_Shoes_and_Jewelry.json.gz')"
   ]
  },
  {
   "cell_type": "code",
   "execution_count": 4,
   "metadata": {},
   "outputs": [
    {
     "data": {
      "text/html": [
       "<div>\n",
       "<style scoped>\n",
       "    .dataframe tbody tr th:only-of-type {\n",
       "        vertical-align: middle;\n",
       "    }\n",
       "\n",
       "    .dataframe tbody tr th {\n",
       "        vertical-align: top;\n",
       "    }\n",
       "\n",
       "    .dataframe thead th {\n",
       "        text-align: right;\n",
       "    }\n",
       "</style>\n",
       "<table border=\"1\" class=\"dataframe\">\n",
       "  <thead>\n",
       "    <tr style=\"text-align: right;\">\n",
       "      <th></th>\n",
       "      <th>asin</th>\n",
       "      <th>related</th>\n",
       "      <th>title</th>\n",
       "      <th>price</th>\n",
       "      <th>salesRank</th>\n",
       "      <th>imUrl</th>\n",
       "      <th>brand</th>\n",
       "      <th>categories</th>\n",
       "      <th>description</th>\n",
       "    </tr>\n",
       "  </thead>\n",
       "  <tbody>\n",
       "    <tr>\n",
       "      <th>0</th>\n",
       "      <td>0000037214</td>\n",
       "      <td>{'also_viewed': ['B00JO8II76', 'B00DGN4R1Q', '...</td>\n",
       "      <td>Purple Sequin Tiny Dancer Tutu Ballet Dance Fa...</td>\n",
       "      <td>6.99</td>\n",
       "      <td>{'Clothing': 1233557}</td>\n",
       "      <td>http://ecx.images-amazon.com/images/I/31mCncNu...</td>\n",
       "      <td>Big Dreams</td>\n",
       "      <td>[[Clothing, Shoes &amp; Jewelry, Girls], [Clothing...</td>\n",
       "      <td>NaN</td>\n",
       "    </tr>\n",
       "    <tr>\n",
       "      <th>1</th>\n",
       "      <td>0000031887</td>\n",
       "      <td>{'also_bought': ['0000031852', '0000031895', '...</td>\n",
       "      <td>Ballet Dress-Up Fairy Tutu</td>\n",
       "      <td>6.79</td>\n",
       "      <td>{'Sports &amp;amp; Outdoors': 8547}</td>\n",
       "      <td>http://ecx.images-amazon.com/images/I/314qZjYe...</td>\n",
       "      <td>Boutique Cutie</td>\n",
       "      <td>[[Clothing, Shoes &amp; Jewelry, Girls, Clothing, ...</td>\n",
       "      <td>This adorable basic ballerina tutu is perfect ...</td>\n",
       "    </tr>\n",
       "    <tr>\n",
       "      <th>2</th>\n",
       "      <td>0123456479</td>\n",
       "      <td>{'also_bought': ['B000BMTCK6', 'B0006JCGUM', '...</td>\n",
       "      <td>SHINING IMAGE HUGE PINK LEATHER JEWELRY BOX / ...</td>\n",
       "      <td>64.98</td>\n",
       "      <td>{'Kitchen &amp; Dining': 16987}</td>\n",
       "      <td>http://ecx.images-amazon.com/images/I/413tGhqo...</td>\n",
       "      <td>NaN</td>\n",
       "      <td>[[Clothing, Shoes &amp; Jewelry, Novelty, Costumes...</td>\n",
       "      <td>Elegance par excellence. Hand-crafted of the f...</td>\n",
       "    </tr>\n",
       "    <tr>\n",
       "      <th>3</th>\n",
       "      <td>0456844570</td>\n",
       "      <td>{'also_viewed': ['B008MTRT1O', 'B00BUG47S4', '...</td>\n",
       "      <td>RiZ Women's Beautify Crafted &amp;frac12; Rimmed F...</td>\n",
       "      <td>NaN</td>\n",
       "      <td>{'Clothing': 1180499}</td>\n",
       "      <td>http://ecx.images-amazon.com/images/I/31QZTHxv...</td>\n",
       "      <td>NaN</td>\n",
       "      <td>[[Clothing, Shoes &amp; Jewelry, Women, Accessorie...</td>\n",
       "      <td>NaN</td>\n",
       "    </tr>\n",
       "    <tr>\n",
       "      <th>4</th>\n",
       "      <td>0456808574</td>\n",
       "      <td>{'also_viewed': ['B00A6JD8EA', 'B00BFL4FTA', '...</td>\n",
       "      <td>Lantin White Visor Wrap Around Ski Style Aviat...</td>\n",
       "      <td>NaN</td>\n",
       "      <td>{'Clothing': 1038084}</td>\n",
       "      <td>http://ecx.images-amazon.com/images/I/31UsrgT5...</td>\n",
       "      <td>NaN</td>\n",
       "      <td>[[Clothing, Shoes &amp; Jewelry, Women, Accessorie...</td>\n",
       "      <td>NaN</td>\n",
       "    </tr>\n",
       "    <tr>\n",
       "      <th>5</th>\n",
       "      <td>0456830197</td>\n",
       "      <td>{'also_bought': ['729300236X']}</td>\n",
       "      <td>NVC Unisex Light Weight Silver 'Dakota' Glasse...</td>\n",
       "      <td>NaN</td>\n",
       "      <td>{'Shoes': 257607}</td>\n",
       "      <td>http://ecx.images-amazon.com/images/I/21PGEX1t...</td>\n",
       "      <td>NaN</td>\n",
       "      <td>[[Clothing, Shoes &amp; Jewelry, Women, Accessorie...</td>\n",
       "      <td>NaN</td>\n",
       "    </tr>\n",
       "    <tr>\n",
       "      <th>6</th>\n",
       "      <td>0456856293</td>\n",
       "      <td>{'also_viewed': ['B005P1HF2U', 'B006K5JWOE', '...</td>\n",
       "      <td>Kismeth Eyewear Classic Large Top Gun Aviator ...</td>\n",
       "      <td>NaN</td>\n",
       "      <td>{'Shoes': 399415}</td>\n",
       "      <td>http://ecx.images-amazon.com/images/I/31-NheYD...</td>\n",
       "      <td>NaN</td>\n",
       "      <td>[[Clothing, Shoes &amp; Jewelry, Women, Accessorie...</td>\n",
       "      <td>NaN</td>\n",
       "    </tr>\n",
       "    <tr>\n",
       "      <th>7</th>\n",
       "      <td>0456840532</td>\n",
       "      <td>{'also_viewed': ['B001K9DPPC', 'B00BV9MU2K', '...</td>\n",
       "      <td>Max-MPH Black - Large Wayfarer Sunglasses Avai...</td>\n",
       "      <td>NaN</td>\n",
       "      <td>{'Clothing': 2728771}</td>\n",
       "      <td>http://ecx.images-amazon.com/images/I/11q4qGCd...</td>\n",
       "      <td>NaN</td>\n",
       "      <td>[[Clothing, Shoes &amp; Jewelry, Women, Accessorie...</td>\n",
       "      <td>NaN</td>\n",
       "    </tr>\n",
       "    <tr>\n",
       "      <th>8</th>\n",
       "      <td>0456787283</td>\n",
       "      <td>{'also_viewed': ['B00AIPLH22', 'B005P1H8KO', '...</td>\n",
       "      <td>FX1 Small Adult Aviator Sunglasses with Silver...</td>\n",
       "      <td>NaN</td>\n",
       "      <td>{'Clothing': 456854}</td>\n",
       "      <td>http://ecx.images-amazon.com/images/I/31dS6eGu...</td>\n",
       "      <td>NaN</td>\n",
       "      <td>[[Clothing, Shoes &amp; Jewelry, Women, Accessorie...</td>\n",
       "      <td>NaN</td>\n",
       "    </tr>\n",
       "    <tr>\n",
       "      <th>9</th>\n",
       "      <td>0456838384</td>\n",
       "      <td>{'also_viewed': ['B001K9DPPC', 'B0042FHTDK', '...</td>\n",
       "      <td>Riz Small Unisex (Mens/ Womens) Black Classic ...</td>\n",
       "      <td>NaN</td>\n",
       "      <td>{'Clothing': 437391}</td>\n",
       "      <td>http://ecx.images-amazon.com/images/I/31b1J21i...</td>\n",
       "      <td>NaN</td>\n",
       "      <td>[[Clothing, Shoes &amp; Jewelry, Women, Accessorie...</td>\n",
       "      <td>NaN</td>\n",
       "    </tr>\n",
       "  </tbody>\n",
       "</table>\n",
       "</div>"
      ],
      "text/plain": [
       "         asin                                            related  \\\n",
       "0  0000037214  {'also_viewed': ['B00JO8II76', 'B00DGN4R1Q', '...   \n",
       "1  0000031887  {'also_bought': ['0000031852', '0000031895', '...   \n",
       "2  0123456479  {'also_bought': ['B000BMTCK6', 'B0006JCGUM', '...   \n",
       "3  0456844570  {'also_viewed': ['B008MTRT1O', 'B00BUG47S4', '...   \n",
       "4  0456808574  {'also_viewed': ['B00A6JD8EA', 'B00BFL4FTA', '...   \n",
       "5  0456830197                    {'also_bought': ['729300236X']}   \n",
       "6  0456856293  {'also_viewed': ['B005P1HF2U', 'B006K5JWOE', '...   \n",
       "7  0456840532  {'also_viewed': ['B001K9DPPC', 'B00BV9MU2K', '...   \n",
       "8  0456787283  {'also_viewed': ['B00AIPLH22', 'B005P1H8KO', '...   \n",
       "9  0456838384  {'also_viewed': ['B001K9DPPC', 'B0042FHTDK', '...   \n",
       "\n",
       "                                               title  price  \\\n",
       "0  Purple Sequin Tiny Dancer Tutu Ballet Dance Fa...   6.99   \n",
       "1                         Ballet Dress-Up Fairy Tutu   6.79   \n",
       "2  SHINING IMAGE HUGE PINK LEATHER JEWELRY BOX / ...  64.98   \n",
       "3  RiZ Women's Beautify Crafted &frac12; Rimmed F...    NaN   \n",
       "4  Lantin White Visor Wrap Around Ski Style Aviat...    NaN   \n",
       "5  NVC Unisex Light Weight Silver 'Dakota' Glasse...    NaN   \n",
       "6  Kismeth Eyewear Classic Large Top Gun Aviator ...    NaN   \n",
       "7  Max-MPH Black - Large Wayfarer Sunglasses Avai...    NaN   \n",
       "8  FX1 Small Adult Aviator Sunglasses with Silver...    NaN   \n",
       "9  Riz Small Unisex (Mens/ Womens) Black Classic ...    NaN   \n",
       "\n",
       "                         salesRank  \\\n",
       "0            {'Clothing': 1233557}   \n",
       "1  {'Sports &amp; Outdoors': 8547}   \n",
       "2      {'Kitchen & Dining': 16987}   \n",
       "3            {'Clothing': 1180499}   \n",
       "4            {'Clothing': 1038084}   \n",
       "5                {'Shoes': 257607}   \n",
       "6                {'Shoes': 399415}   \n",
       "7            {'Clothing': 2728771}   \n",
       "8             {'Clothing': 456854}   \n",
       "9             {'Clothing': 437391}   \n",
       "\n",
       "                                               imUrl           brand  \\\n",
       "0  http://ecx.images-amazon.com/images/I/31mCncNu...      Big Dreams   \n",
       "1  http://ecx.images-amazon.com/images/I/314qZjYe...  Boutique Cutie   \n",
       "2  http://ecx.images-amazon.com/images/I/413tGhqo...             NaN   \n",
       "3  http://ecx.images-amazon.com/images/I/31QZTHxv...             NaN   \n",
       "4  http://ecx.images-amazon.com/images/I/31UsrgT5...             NaN   \n",
       "5  http://ecx.images-amazon.com/images/I/21PGEX1t...             NaN   \n",
       "6  http://ecx.images-amazon.com/images/I/31-NheYD...             NaN   \n",
       "7  http://ecx.images-amazon.com/images/I/11q4qGCd...             NaN   \n",
       "8  http://ecx.images-amazon.com/images/I/31dS6eGu...             NaN   \n",
       "9  http://ecx.images-amazon.com/images/I/31b1J21i...             NaN   \n",
       "\n",
       "                                          categories  \\\n",
       "0  [[Clothing, Shoes & Jewelry, Girls], [Clothing...   \n",
       "1  [[Clothing, Shoes & Jewelry, Girls, Clothing, ...   \n",
       "2  [[Clothing, Shoes & Jewelry, Novelty, Costumes...   \n",
       "3  [[Clothing, Shoes & Jewelry, Women, Accessorie...   \n",
       "4  [[Clothing, Shoes & Jewelry, Women, Accessorie...   \n",
       "5  [[Clothing, Shoes & Jewelry, Women, Accessorie...   \n",
       "6  [[Clothing, Shoes & Jewelry, Women, Accessorie...   \n",
       "7  [[Clothing, Shoes & Jewelry, Women, Accessorie...   \n",
       "8  [[Clothing, Shoes & Jewelry, Women, Accessorie...   \n",
       "9  [[Clothing, Shoes & Jewelry, Women, Accessorie...   \n",
       "\n",
       "                                         description  \n",
       "0                                                NaN  \n",
       "1  This adorable basic ballerina tutu is perfect ...  \n",
       "2  Elegance par excellence. Hand-crafted of the f...  \n",
       "3                                                NaN  \n",
       "4                                                NaN  \n",
       "5                                                NaN  \n",
       "6                                                NaN  \n",
       "7                                                NaN  \n",
       "8                                                NaN  \n",
       "9                                                NaN  "
      ]
     },
     "execution_count": 4,
     "metadata": {},
     "output_type": "execute_result"
    }
   ],
   "source": [
    "df2.head(10)"
   ]
  },
  {
   "cell_type": "markdown",
   "metadata": {},
   "source": [
    "#### Explore information available and create columns for relevant information"
   ]
  },
  {
   "cell_type": "code",
   "execution_count": 5,
   "metadata": {},
   "outputs": [],
   "source": [
    "df2['sub-categories'] = df2.apply (lambda row: row['categories'][0][-1],axis=1)\n",
    "df2['top-categories'] = df2.apply (lambda row: row['categories'][0][1],axis=1)"
   ]
  },
  {
   "cell_type": "code",
   "execution_count": 6,
   "metadata": {},
   "outputs": [
    {
     "data": {
      "text/plain": [
       "1    Active Skirts\n",
       "2    Jewelry Boxes\n",
       "3       Sunglasses\n",
       "4       Sunglasses\n",
       "5       Sunglasses\n",
       "6       Sunglasses\n",
       "7       Sunglasses\n",
       "8       Sunglasses\n",
       "9       Sunglasses\n",
       "Name: sub-categories, dtype: object"
      ]
     },
     "execution_count": 6,
     "metadata": {},
     "output_type": "execute_result"
    }
   ],
   "source": [
    "df2[\"sub-categories\"][1:10]"
   ]
  },
  {
   "cell_type": "code",
   "execution_count": 7,
   "metadata": {},
   "outputs": [
    {
     "data": {
      "text/plain": [
       "1                       Girls\n",
       "2    Novelty, Costumes & More\n",
       "3                       Women\n",
       "4                       Women\n",
       "5                       Women\n",
       "6                       Women\n",
       "7                       Women\n",
       "8                       Women\n",
       "9                       Women\n",
       "Name: top-categories, dtype: object"
      ]
     },
     "execution_count": 7,
     "metadata": {},
     "output_type": "execute_result"
    }
   ],
   "source": [
    "df2[\"top-categories\"][1:10]"
   ]
  },
  {
   "cell_type": "code",
   "execution_count": 8,
   "metadata": {},
   "outputs": [
    {
     "data": {
      "text/plain": [
       "1    {'also_bought': ['0000031852', '0000031895', '...\n",
       "2    {'also_bought': ['B000BMTCK6', 'B0006JCGUM', '...\n",
       "3    {'also_viewed': ['B008MTRT1O', 'B00BUG47S4', '...\n",
       "4    {'also_viewed': ['B00A6JD8EA', 'B00BFL4FTA', '...\n",
       "5                      {'also_bought': ['729300236X']}\n",
       "6    {'also_viewed': ['B005P1HF2U', 'B006K5JWOE', '...\n",
       "7    {'also_viewed': ['B001K9DPPC', 'B00BV9MU2K', '...\n",
       "8    {'also_viewed': ['B00AIPLH22', 'B005P1H8KO', '...\n",
       "9    {'also_viewed': ['B001K9DPPC', 'B0042FHTDK', '...\n",
       "Name: related2, dtype: object"
      ]
     },
     "execution_count": 8,
     "metadata": {},
     "output_type": "execute_result"
    }
   ],
   "source": [
    "df2['related2'] = df2.apply (lambda row: row['related'],axis=1)\n",
    "df2['related2'][1:10]"
   ]
  },
  {
   "cell_type": "code",
   "execution_count": 9,
   "metadata": {},
   "outputs": [],
   "source": [
    "df_items = df2[['title','price','brand','description','sub-categories','top-categories','categories']]"
   ]
  },
  {
   "cell_type": "code",
   "execution_count": 10,
   "metadata": {},
   "outputs": [
    {
     "data": {
      "text/html": [
       "<div>\n",
       "<style scoped>\n",
       "    .dataframe tbody tr th:only-of-type {\n",
       "        vertical-align: middle;\n",
       "    }\n",
       "\n",
       "    .dataframe tbody tr th {\n",
       "        vertical-align: top;\n",
       "    }\n",
       "\n",
       "    .dataframe thead th {\n",
       "        text-align: right;\n",
       "    }\n",
       "</style>\n",
       "<table border=\"1\" class=\"dataframe\">\n",
       "  <thead>\n",
       "    <tr style=\"text-align: right;\">\n",
       "      <th></th>\n",
       "      <th>title</th>\n",
       "      <th>price</th>\n",
       "      <th>brand</th>\n",
       "      <th>description</th>\n",
       "      <th>sub-categories</th>\n",
       "      <th>top-categories</th>\n",
       "      <th>categories</th>\n",
       "    </tr>\n",
       "  </thead>\n",
       "  <tbody>\n",
       "    <tr>\n",
       "      <th>0</th>\n",
       "      <td>Purple Sequin Tiny Dancer Tutu Ballet Dance Fa...</td>\n",
       "      <td>6.99</td>\n",
       "      <td>Big Dreams</td>\n",
       "      <td>NaN</td>\n",
       "      <td>Girls</td>\n",
       "      <td>Girls</td>\n",
       "      <td>[[Clothing, Shoes &amp; Jewelry, Girls], [Clothing...</td>\n",
       "    </tr>\n",
       "    <tr>\n",
       "      <th>1</th>\n",
       "      <td>Ballet Dress-Up Fairy Tutu</td>\n",
       "      <td>6.79</td>\n",
       "      <td>Boutique Cutie</td>\n",
       "      <td>This adorable basic ballerina tutu is perfect ...</td>\n",
       "      <td>Active Skirts</td>\n",
       "      <td>Girls</td>\n",
       "      <td>[[Clothing, Shoes &amp; Jewelry, Girls, Clothing, ...</td>\n",
       "    </tr>\n",
       "    <tr>\n",
       "      <th>2</th>\n",
       "      <td>SHINING IMAGE HUGE PINK LEATHER JEWELRY BOX / ...</td>\n",
       "      <td>64.98</td>\n",
       "      <td>NaN</td>\n",
       "      <td>Elegance par excellence. Hand-crafted of the f...</td>\n",
       "      <td>Jewelry Boxes</td>\n",
       "      <td>Novelty, Costumes &amp; More</td>\n",
       "      <td>[[Clothing, Shoes &amp; Jewelry, Novelty, Costumes...</td>\n",
       "    </tr>\n",
       "    <tr>\n",
       "      <th>3</th>\n",
       "      <td>RiZ Women's Beautify Crafted &amp;frac12; Rimmed F...</td>\n",
       "      <td>NaN</td>\n",
       "      <td>NaN</td>\n",
       "      <td>NaN</td>\n",
       "      <td>Sunglasses</td>\n",
       "      <td>Women</td>\n",
       "      <td>[[Clothing, Shoes &amp; Jewelry, Women, Accessorie...</td>\n",
       "    </tr>\n",
       "    <tr>\n",
       "      <th>4</th>\n",
       "      <td>Lantin White Visor Wrap Around Ski Style Aviat...</td>\n",
       "      <td>NaN</td>\n",
       "      <td>NaN</td>\n",
       "      <td>NaN</td>\n",
       "      <td>Sunglasses</td>\n",
       "      <td>Women</td>\n",
       "      <td>[[Clothing, Shoes &amp; Jewelry, Women, Accessorie...</td>\n",
       "    </tr>\n",
       "  </tbody>\n",
       "</table>\n",
       "</div>"
      ],
      "text/plain": [
       "                                               title  price           brand  \\\n",
       "0  Purple Sequin Tiny Dancer Tutu Ballet Dance Fa...   6.99      Big Dreams   \n",
       "1                         Ballet Dress-Up Fairy Tutu   6.79  Boutique Cutie   \n",
       "2  SHINING IMAGE HUGE PINK LEATHER JEWELRY BOX / ...  64.98             NaN   \n",
       "3  RiZ Women's Beautify Crafted &frac12; Rimmed F...    NaN             NaN   \n",
       "4  Lantin White Visor Wrap Around Ski Style Aviat...    NaN             NaN   \n",
       "\n",
       "                                         description sub-categories  \\\n",
       "0                                                NaN          Girls   \n",
       "1  This adorable basic ballerina tutu is perfect ...  Active Skirts   \n",
       "2  Elegance par excellence. Hand-crafted of the f...  Jewelry Boxes   \n",
       "3                                                NaN     Sunglasses   \n",
       "4                                                NaN     Sunglasses   \n",
       "\n",
       "             top-categories                                         categories  \n",
       "0                     Girls  [[Clothing, Shoes & Jewelry, Girls], [Clothing...  \n",
       "1                     Girls  [[Clothing, Shoes & Jewelry, Girls, Clothing, ...  \n",
       "2  Novelty, Costumes & More  [[Clothing, Shoes & Jewelry, Novelty, Costumes...  \n",
       "3                     Women  [[Clothing, Shoes & Jewelry, Women, Accessorie...  \n",
       "4                     Women  [[Clothing, Shoes & Jewelry, Women, Accessorie...  "
      ]
     },
     "execution_count": 10,
     "metadata": {},
     "output_type": "execute_result"
    }
   ],
   "source": [
    "df_items.head()"
   ]
  },
  {
   "cell_type": "markdown",
   "metadata": {},
   "source": [
    "#### Get words function takes title, brand, description and categories for each item and combines them into one sentence"
   ]
  },
  {
   "cell_type": "code",
   "execution_count": 32,
   "metadata": {},
   "outputs": [],
   "source": [
    "\n",
    "def get_words(title,brand,description,categories):\n",
    "    sentence = \"\"\n",
    "    if isinstance(title, str):\n",
    "        sentence = sentence + title+ \" \"\n",
    "    if isinstance(brand, str):\n",
    "        sentence = sentence + brand+ \" \"\n",
    "    if isinstance(description, str):\n",
    "        sentence = sentence + description+ \" \"\n",
    "    if isinstance(categories, list):\n",
    "        sentence = sentence + ' '.join(str(r).replace(',', '') for v in categories for r in v)+ \" \"\n",
    "        \n",
    "    return sentence\n"
   ]
  },
  {
   "cell_type": "markdown",
   "metadata": {},
   "source": [
    "#### Apply get_words function to all items in dataset"
   ]
  },
  {
   "cell_type": "code",
   "execution_count": 33,
   "metadata": {},
   "outputs": [
    {
     "name": "stderr",
     "output_type": "stream",
     "text": [
      "C:\\Users\\Kiran\\AppData\\Local\\Continuum\\anaconda3\\envs\\env2\\lib\\site-packages\\ipykernel_launcher.py:1: SettingWithCopyWarning: \n",
      "A value is trying to be set on a copy of a slice from a DataFrame.\n",
      "Try using .loc[row_indexer,col_indexer] = value instead\n",
      "\n",
      "See the caveats in the documentation: http://pandas.pydata.org/pandas-docs/stable/indexing.html#indexing-view-versus-copy\n",
      "  \"\"\"Entry point for launching an IPython kernel.\n"
     ]
    }
   ],
   "source": [
    "df_items['all_words'] = df_items.apply (lambda row: get_words(row[\"title\"],row[\"brand\"],row[\"description\"],row[\"categories\"]),axis=1)"
   ]
  },
  {
   "cell_type": "code",
   "execution_count": 87,
   "metadata": {},
   "outputs": [
    {
     "data": {
      "text/plain": [
       "\"CASIO LA11WB-1 Ladies Watch Casio Splash-resistant, classically casual Woman's digital watch with stopwatch and timer Clothing Shoes & Jewelry Women Watches Wrist Watches \""
      ]
     },
     "execution_count": 87,
     "metadata": {},
     "output_type": "execute_result"
    }
   ],
   "source": [
    "df_items['all_words'][450]"
   ]
  },
  {
   "cell_type": "markdown",
   "metadata": {},
   "source": [
    "#### Create doc2vec model for all textual information of items"
   ]
  },
  {
   "cell_type": "code",
   "execution_count": 35,
   "metadata": {},
   "outputs": [],
   "source": [
    "import gensim\n",
    "from gensim.models.doc2vec import Doc2Vec, TaggedDocument\n",
    "from nltk.tokenize import word_tokenize\n",
    "import numpy as np\n",
    "import pandas as pd\n",
    "from sklearn.manifold import TSNE\n",
    "import matplotlib.pyplot as plt\n",
    "import glob"
   ]
  },
  {
   "cell_type": "markdown",
   "metadata": {},
   "source": [
    "#### Create corpus of words"
   ]
  },
  {
   "cell_type": "code",
   "execution_count": 36,
   "metadata": {},
   "outputs": [],
   "source": [
    "corpus = df_items[\"all_words\"].tolist()"
   ]
  },
  {
   "cell_type": "code",
   "execution_count": 37,
   "metadata": {},
   "outputs": [],
   "source": [
    "tagged_data = [TaggedDocument(words=word_tokenize(_d.lower()), tags=[str(i)]) for i, _d in enumerate(corpus)]"
   ]
  },
  {
   "cell_type": "code",
   "execution_count": 52,
   "metadata": {},
   "outputs": [
    {
     "data": {
      "text/plain": [
       "TaggedDocument(words=['purple', 'sequin', 'tiny', 'dancer', 'tutu', 'ballet', 'dance', 'fairy', 'princess', 'costume', 'accessory', 'big', 'dreams', 'clothing', 'shoes', '&', 'jewelry', 'girls', 'clothing', 'shoes', '&', 'jewelry', 'novelty', 'costumes', '&', 'more', 'costumes', '&', 'accessories', 'more', 'accessories', 'kids', '&', 'baby'], tags=['0'])"
      ]
     },
     "execution_count": 52,
     "metadata": {},
     "output_type": "execute_result"
    }
   ],
   "source": [
    "tagged_data[0]"
   ]
  },
  {
   "cell_type": "markdown",
   "metadata": {},
   "source": [
    "#### Represent each document as a vector of size 15"
   ]
  },
  {
   "cell_type": "code",
   "execution_count": 72,
   "metadata": {},
   "outputs": [
    {
     "name": "stdout",
     "output_type": "stream",
     "text": [
      "iteration 0\n"
     ]
    },
    {
     "name": "stderr",
     "output_type": "stream",
     "text": [
      "C:\\Users\\Kiran\\AppData\\Local\\Continuum\\anaconda3\\envs\\env2\\lib\\site-packages\\ipykernel_launcher.py:11: DeprecationWarning: Call to deprecated `iter` (Attribute will be removed in 4.0.0, use self.epochs instead).\n",
      "  # This is added back by InteractiveShellApp.init_path()\n"
     ]
    },
    {
     "name": "stdout",
     "output_type": "stream",
     "text": [
      "iteration 1\n",
      "iteration 2\n",
      "iteration 3\n",
      "iteration 4\n",
      "iteration 5\n",
      "iteration 6\n",
      "iteration 7\n",
      "iteration 8\n",
      "iteration 9\n",
      "iteration 10\n",
      "iteration 11\n",
      "iteration 12\n",
      "iteration 13\n",
      "iteration 14\n",
      "iteration 15\n",
      "iteration 16\n",
      "iteration 17\n",
      "iteration 18\n",
      "iteration 19\n",
      "iteration 20\n",
      "iteration 21\n",
      "iteration 22\n",
      "iteration 23\n",
      "iteration 24\n",
      "iteration 25\n",
      "iteration 26\n",
      "iteration 27\n",
      "iteration 28\n",
      "iteration 29\n",
      "iteration 30\n",
      "iteration 31\n",
      "iteration 32\n",
      "iteration 33\n",
      "iteration 34\n",
      "iteration 35\n",
      "iteration 36\n",
      "iteration 37\n",
      "iteration 38\n",
      "iteration 39\n",
      "iteration 40\n",
      "iteration 41\n",
      "iteration 42\n",
      "iteration 43\n",
      "iteration 44\n",
      "iteration 45\n",
      "iteration 46\n",
      "iteration 47\n",
      "iteration 48\n",
      "iteration 49\n",
      "iteration 50\n",
      "iteration 51\n",
      "iteration 52\n",
      "iteration 53\n",
      "iteration 54\n",
      "iteration 55\n",
      "iteration 56\n",
      "iteration 57\n",
      "iteration 58\n",
      "iteration 59\n",
      "iteration 60\n",
      "iteration 61\n",
      "iteration 62\n",
      "iteration 63\n",
      "iteration 64\n",
      "iteration 65\n",
      "iteration 66\n",
      "iteration 67\n",
      "iteration 68\n",
      "iteration 69\n",
      "iteration 70\n",
      "iteration 71\n",
      "iteration 72\n",
      "iteration 73\n",
      "iteration 74\n",
      "iteration 75\n",
      "iteration 76\n",
      "iteration 77\n",
      "iteration 78\n",
      "iteration 79\n",
      "iteration 80\n",
      "iteration 81\n",
      "iteration 82\n",
      "iteration 83\n",
      "iteration 84\n",
      "iteration 85\n",
      "iteration 86\n",
      "iteration 87\n",
      "iteration 88\n",
      "iteration 89\n",
      "iteration 90\n",
      "iteration 91\n",
      "iteration 92\n",
      "iteration 93\n",
      "iteration 94\n",
      "iteration 95\n",
      "iteration 96\n",
      "iteration 97\n",
      "iteration 98\n",
      "iteration 99\n"
     ]
    }
   ],
   "source": [
    "max_epochs = 1\n",
    "vec_size = 15\n",
    "alpha = 0.025\n",
    "\n",
    "model = Doc2Vec(size=vec_size,alpha=alpha,dm =1)\n",
    "  \n",
    "model.build_vocab(tagged_data)\n",
    "\n",
    "for epoch in range(max_epochs):\n",
    "    print('iteration {0}'.format(epoch))\n",
    "    model.train(tagged_data,total_examples=model.corpus_count,epochs=model.iter)\n",
    "    model.alpha -= 0.0002\n",
    "    model.min_alpha = model.alpha\n",
    "\n"
   ]
  },
  {
   "cell_type": "markdown",
   "metadata": {},
   "source": [
    "#### Take a test items and find similar items in corpus"
   ]
  },
  {
   "cell_type": "code",
   "execution_count": 88,
   "metadata": {},
   "outputs": [
    {
     "data": {
      "text/plain": [
       "[('882183', 0.9080591797828674),\n",
       " ('763211', 0.9077495336532593),\n",
       " ('988855', 0.9048336744308472),\n",
       " ('319913', 0.9025505185127258),\n",
       " ('137114', 0.9006561040878296),\n",
       " ('118624', 0.9002074003219604),\n",
       " ('1239735', 0.8999005556106567),\n",
       " ('21914', 0.8956171274185181),\n",
       " ('470153', 0.893549919128418),\n",
       " ('74237', 0.8911838531494141)]"
      ]
     },
     "execution_count": 88,
     "metadata": {},
     "output_type": "execute_result"
    }
   ],
   "source": [
    "tokens = \"CASIO LA11WB-1 Ladies Watch Casio Splash-resistant, classically casual Woman's digital watch with stopwatch and timer Clothing Shoes & Jewelry Women Watches Wrist Watches \".split()\n",
    "\n",
    "new_vector = model.infer_vector(tokens)\n",
    "sims = model.docvecs.most_similar([new_vector])\n",
    "sims"
   ]
  },
  {
   "cell_type": "code",
   "execution_count": 89,
   "metadata": {},
   "outputs": [
    {
     "data": {
      "text/plain": [
       "\"Tommy Hilfiger Men's 1790859 Black Leather Analog Quartz Watch with Grey Dial Clothing Shoes & Jewelry Fashion Watches Clothing Shoes & Jewelry T Tommy Hilfiger Clothing Shoes & Jewelry Men Watches Wrist Watches \""
      ]
     },
     "execution_count": 89,
     "metadata": {},
     "output_type": "execute_result"
    }
   ],
   "source": [
    "df_items['all_words'][882183]"
   ]
  },
  {
   "cell_type": "code",
   "execution_count": 90,
   "metadata": {},
   "outputs": [
    {
     "data": {
      "text/plain": [
       "\"Casio Men's DW5600BB-1 Black Resin Quartz Watch with Digital Dial Clothing Shoes & Jewelry Men Watches Wrist Watches \""
      ]
     },
     "execution_count": 90,
     "metadata": {},
     "output_type": "execute_result"
    }
   ],
   "source": [
    "df_items['all_words'][763211]"
   ]
  },
  {
   "cell_type": "code",
   "execution_count": 91,
   "metadata": {},
   "outputs": [
    {
     "data": {
      "text/plain": [
       "\"Casio Men's PRGS510-1 Black Resin Quartz Watch with Grey Dial Clothing Shoes & Jewelry Men Watches Wrist Watches \""
      ]
     },
     "execution_count": 91,
     "metadata": {},
     "output_type": "execute_result"
    }
   ],
   "source": [
    "df_items['all_words'][988855]"
   ]
  },
  {
   "cell_type": "code",
   "execution_count": 92,
   "metadata": {},
   "outputs": [
    {
     "data": {
      "text/plain": [
       "'Nixon 51-30 Chrono Blue Dial Custom Solid Stainless Steel Mens Watch A083690 Clothing Shoes & Jewelry Fashion Watches Clothing Shoes & Jewelry Nixon Watches Clothing Shoes & Jewelry Men Watches Wrist Watches '"
      ]
     },
     "execution_count": 92,
     "metadata": {},
     "output_type": "execute_result"
    }
   ],
   "source": [
    "df_items['all_words'][319913]"
   ]
  },
  {
   "cell_type": "markdown",
   "metadata": {},
   "source": [
    "#### The similar items are wrist watches which is the same category as test item."
   ]
  },
  {
   "cell_type": "markdown",
   "metadata": {},
   "source": [
    "#### Save the model"
   ]
  },
  {
   "cell_type": "code",
   "execution_count": 93,
   "metadata": {},
   "outputs": [
    {
     "name": "stdout",
     "output_type": "stream",
     "text": [
      "Model Saved\n"
     ]
    }
   ],
   "source": [
    "model.save(\"d2v_final.model\")\n",
    "print(\"Model Saved\")"
   ]
  },
  {
   "cell_type": "code",
   "execution_count": null,
   "metadata": {},
   "outputs": [],
   "source": []
  }
 ],
 "metadata": {
  "kernelspec": {
   "display_name": "env2",
   "language": "python",
   "name": "env2"
  },
  "language_info": {
   "codemirror_mode": {
    "name": "ipython",
    "version": 3
   },
   "file_extension": ".py",
   "mimetype": "text/x-python",
   "name": "python",
   "nbconvert_exporter": "python",
   "pygments_lexer": "ipython3",
   "version": "3.6.6"
  }
 },
 "nbformat": 4,
 "nbformat_minor": 2
}
