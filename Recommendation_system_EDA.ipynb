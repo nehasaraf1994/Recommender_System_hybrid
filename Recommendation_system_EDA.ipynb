{
 "cells": [
  {
   "cell_type": "markdown",
   "metadata": {},
   "source": [
    "### This file explores the dataset used for recommendation using visualization"
   ]
  },
  {
   "cell_type": "code",
   "execution_count": 2,
   "metadata": {},
   "outputs": [],
   "source": [
    "import pandas as pd\n",
    "import gzip\n",
    "from PIL import Image\n",
    "from PIL import ImageOps\n",
    "import urllib.request as urllib\n",
    "import urllib.error as err\n",
    "\n",
    "import io\n",
    "import numpy as np\n",
    "\n",
    "def parse(path):\n",
    "    g = gzip.open(path, 'rb')\n",
    "    for line in g:\n",
    "        yield eval(line)\n",
    "\n",
    "def getDF(path):\n",
    "    i = 0\n",
    "    df = {}\n",
    "    for d in parse(path):\n",
    "        df[i] = d\n",
    "        i += 1\n",
    "    return pd.DataFrame.from_dict(df, orient='index')\n",
    "\n",
    "df = getDF('reviews_Clothing_Shoes_and_Jewelry_5.json.gz')"
   ]
  },
  {
   "cell_type": "code",
   "execution_count": 3,
   "metadata": {},
   "outputs": [
    {
     "data": {
      "text/html": [
       "<div>\n",
       "<style scoped>\n",
       "    .dataframe tbody tr th:only-of-type {\n",
       "        vertical-align: middle;\n",
       "    }\n",
       "\n",
       "    .dataframe tbody tr th {\n",
       "        vertical-align: top;\n",
       "    }\n",
       "\n",
       "    .dataframe thead th {\n",
       "        text-align: right;\n",
       "    }\n",
       "</style>\n",
       "<table border=\"1\" class=\"dataframe\">\n",
       "  <thead>\n",
       "    <tr style=\"text-align: right;\">\n",
       "      <th></th>\n",
       "      <th>reviewerID</th>\n",
       "      <th>asin</th>\n",
       "      <th>reviewerName</th>\n",
       "      <th>helpful</th>\n",
       "      <th>reviewText</th>\n",
       "      <th>overall</th>\n",
       "      <th>summary</th>\n",
       "      <th>unixReviewTime</th>\n",
       "      <th>reviewTime</th>\n",
       "    </tr>\n",
       "  </thead>\n",
       "  <tbody>\n",
       "    <tr>\n",
       "      <th>0</th>\n",
       "      <td>A1KLRMWW2FWPL4</td>\n",
       "      <td>0000031887</td>\n",
       "      <td>Amazon Customer \"cameramom\"</td>\n",
       "      <td>[0, 0]</td>\n",
       "      <td>This is a great tutu and at a really great pri...</td>\n",
       "      <td>5.0</td>\n",
       "      <td>Great tutu-  not cheaply made</td>\n",
       "      <td>1297468800</td>\n",
       "      <td>02 12, 2011</td>\n",
       "    </tr>\n",
       "    <tr>\n",
       "      <th>1</th>\n",
       "      <td>A2G5TCU2WDFZ65</td>\n",
       "      <td>0000031887</td>\n",
       "      <td>Amazon Customer</td>\n",
       "      <td>[0, 0]</td>\n",
       "      <td>I bought this for my 4 yr old daughter for dan...</td>\n",
       "      <td>5.0</td>\n",
       "      <td>Very Cute!!</td>\n",
       "      <td>1358553600</td>\n",
       "      <td>01 19, 2013</td>\n",
       "    </tr>\n",
       "    <tr>\n",
       "      <th>2</th>\n",
       "      <td>A1RLQXYNCMWRWN</td>\n",
       "      <td>0000031887</td>\n",
       "      <td>Carola</td>\n",
       "      <td>[0, 0]</td>\n",
       "      <td>What can I say... my daughters have it in oran...</td>\n",
       "      <td>5.0</td>\n",
       "      <td>I have buy more than one</td>\n",
       "      <td>1357257600</td>\n",
       "      <td>01 4, 2013</td>\n",
       "    </tr>\n",
       "    <tr>\n",
       "      <th>3</th>\n",
       "      <td>A8U3FAMSJVHS5</td>\n",
       "      <td>0000031887</td>\n",
       "      <td>Caromcg</td>\n",
       "      <td>[0, 0]</td>\n",
       "      <td>We bought several tutus at once, and they are ...</td>\n",
       "      <td>5.0</td>\n",
       "      <td>Adorable, Sturdy</td>\n",
       "      <td>1398556800</td>\n",
       "      <td>04 27, 2014</td>\n",
       "    </tr>\n",
       "    <tr>\n",
       "      <th>4</th>\n",
       "      <td>A3GEOILWLK86XM</td>\n",
       "      <td>0000031887</td>\n",
       "      <td>CJ</td>\n",
       "      <td>[0, 0]</td>\n",
       "      <td>Thank you Halo Heaven great product for Little...</td>\n",
       "      <td>5.0</td>\n",
       "      <td>Grammy's Angels Love it</td>\n",
       "      <td>1394841600</td>\n",
       "      <td>03 15, 2014</td>\n",
       "    </tr>\n",
       "    <tr>\n",
       "      <th>5</th>\n",
       "      <td>A27UF1MSF3DB2</td>\n",
       "      <td>0000031887</td>\n",
       "      <td>C-Lo \"Cynthia\"</td>\n",
       "      <td>[0, 0]</td>\n",
       "      <td>I received this today and I'm not a fan of it ...</td>\n",
       "      <td>4.0</td>\n",
       "      <td>It's ok</td>\n",
       "      <td>1396224000</td>\n",
       "      <td>03 31, 2014</td>\n",
       "    </tr>\n",
       "    <tr>\n",
       "      <th>6</th>\n",
       "      <td>A16GFPNVF4Y816</td>\n",
       "      <td>0000031887</td>\n",
       "      <td>design maven</td>\n",
       "      <td>[0, 0]</td>\n",
       "      <td>Bought this as a backup to the regular ballet ...</td>\n",
       "      <td>5.0</td>\n",
       "      <td>Great for dress-up and for ballet practice</td>\n",
       "      <td>1399075200</td>\n",
       "      <td>05 3, 2014</td>\n",
       "    </tr>\n",
       "    <tr>\n",
       "      <th>7</th>\n",
       "      <td>A2M2APVYIB2U6K</td>\n",
       "      <td>0000031887</td>\n",
       "      <td>Jamie P.</td>\n",
       "      <td>[0, 0]</td>\n",
       "      <td>Great tutu for a great price. It isn't a &amp;#34;...</td>\n",
       "      <td>5.0</td>\n",
       "      <td>Great value</td>\n",
       "      <td>1356220800</td>\n",
       "      <td>12 23, 2012</td>\n",
       "    </tr>\n",
       "    <tr>\n",
       "      <th>8</th>\n",
       "      <td>A1NJ71X3YPQNQ9</td>\n",
       "      <td>0000031887</td>\n",
       "      <td>JBerger</td>\n",
       "      <td>[0, 0]</td>\n",
       "      <td>My daughter liked this, and it with her costum...</td>\n",
       "      <td>4.0</td>\n",
       "      <td>Good</td>\n",
       "      <td>1384041600</td>\n",
       "      <td>11 10, 2013</td>\n",
       "    </tr>\n",
       "    <tr>\n",
       "      <th>9</th>\n",
       "      <td>A3EERSWHAI6SO</td>\n",
       "      <td>0000031887</td>\n",
       "      <td>Jeffrey Hollingshead \"Jillian hollingshead\"</td>\n",
       "      <td>[7, 8]</td>\n",
       "      <td>For what I paid for two tutus is unbeatable an...</td>\n",
       "      <td>5.0</td>\n",
       "      <td>WOW !! ..is all I have to say!</td>\n",
       "      <td>1349568000</td>\n",
       "      <td>10 7, 2012</td>\n",
       "    </tr>\n",
       "  </tbody>\n",
       "</table>\n",
       "</div>"
      ],
      "text/plain": [
       "       reviewerID        asin                                 reviewerName  \\\n",
       "0  A1KLRMWW2FWPL4  0000031887                  Amazon Customer \"cameramom\"   \n",
       "1  A2G5TCU2WDFZ65  0000031887                              Amazon Customer   \n",
       "2  A1RLQXYNCMWRWN  0000031887                                       Carola   \n",
       "3   A8U3FAMSJVHS5  0000031887                                      Caromcg   \n",
       "4  A3GEOILWLK86XM  0000031887                                           CJ   \n",
       "5   A27UF1MSF3DB2  0000031887                               C-Lo \"Cynthia\"   \n",
       "6  A16GFPNVF4Y816  0000031887                                 design maven   \n",
       "7  A2M2APVYIB2U6K  0000031887                                     Jamie P.   \n",
       "8  A1NJ71X3YPQNQ9  0000031887                                      JBerger   \n",
       "9   A3EERSWHAI6SO  0000031887  Jeffrey Hollingshead \"Jillian hollingshead\"   \n",
       "\n",
       "  helpful                                         reviewText  overall  \\\n",
       "0  [0, 0]  This is a great tutu and at a really great pri...      5.0   \n",
       "1  [0, 0]  I bought this for my 4 yr old daughter for dan...      5.0   \n",
       "2  [0, 0]  What can I say... my daughters have it in oran...      5.0   \n",
       "3  [0, 0]  We bought several tutus at once, and they are ...      5.0   \n",
       "4  [0, 0]  Thank you Halo Heaven great product for Little...      5.0   \n",
       "5  [0, 0]  I received this today and I'm not a fan of it ...      4.0   \n",
       "6  [0, 0]  Bought this as a backup to the regular ballet ...      5.0   \n",
       "7  [0, 0]  Great tutu for a great price. It isn't a &#34;...      5.0   \n",
       "8  [0, 0]  My daughter liked this, and it with her costum...      4.0   \n",
       "9  [7, 8]  For what I paid for two tutus is unbeatable an...      5.0   \n",
       "\n",
       "                                      summary  unixReviewTime   reviewTime  \n",
       "0               Great tutu-  not cheaply made      1297468800  02 12, 2011  \n",
       "1                                 Very Cute!!      1358553600  01 19, 2013  \n",
       "2                    I have buy more than one      1357257600   01 4, 2013  \n",
       "3                            Adorable, Sturdy      1398556800  04 27, 2014  \n",
       "4                     Grammy's Angels Love it      1394841600  03 15, 2014  \n",
       "5                                     It's ok      1396224000  03 31, 2014  \n",
       "6  Great for dress-up and for ballet practice      1399075200   05 3, 2014  \n",
       "7                                 Great value      1356220800  12 23, 2012  \n",
       "8                                        Good      1384041600  11 10, 2013  \n",
       "9              WOW !! ..is all I have to say!      1349568000   10 7, 2012  "
      ]
     },
     "execution_count": 3,
     "metadata": {},
     "output_type": "execute_result"
    }
   ],
   "source": [
    "df.head(10)"
   ]
  },
  {
   "cell_type": "code",
   "execution_count": 5,
   "metadata": {},
   "outputs": [],
   "source": [
    "user_item_data = df[['reviewerID','asin','overall','reviewTime','unixReviewTime']]"
   ]
  },
  {
   "cell_type": "code",
   "execution_count": 6,
   "metadata": {},
   "outputs": [
    {
     "data": {
      "text/plain": [
       "1393385"
      ]
     },
     "execution_count": 6,
     "metadata": {},
     "output_type": "execute_result"
    }
   ],
   "source": [
    "user_item_data.size"
   ]
  },
  {
   "cell_type": "code",
   "execution_count": 9,
   "metadata": {},
   "outputs": [],
   "source": [
    "user_item_data.columns = [\"User_Id\", \"Item_Id\", \"Rating\", \"TimeStamp\",\"TimeStamp2\"]"
   ]
  },
  {
   "cell_type": "code",
   "execution_count": 10,
   "metadata": {},
   "outputs": [
    {
     "data": {
      "text/html": [
       "<div>\n",
       "<style scoped>\n",
       "    .dataframe tbody tr th:only-of-type {\n",
       "        vertical-align: middle;\n",
       "    }\n",
       "\n",
       "    .dataframe tbody tr th {\n",
       "        vertical-align: top;\n",
       "    }\n",
       "\n",
       "    .dataframe thead th {\n",
       "        text-align: right;\n",
       "    }\n",
       "</style>\n",
       "<table border=\"1\" class=\"dataframe\">\n",
       "  <thead>\n",
       "    <tr style=\"text-align: right;\">\n",
       "      <th></th>\n",
       "      <th>User_Id</th>\n",
       "      <th>Item_Id</th>\n",
       "      <th>Rating</th>\n",
       "      <th>TimeStamp</th>\n",
       "      <th>TimeStamp2</th>\n",
       "    </tr>\n",
       "  </thead>\n",
       "  <tbody>\n",
       "    <tr>\n",
       "      <th>0</th>\n",
       "      <td>A1KLRMWW2FWPL4</td>\n",
       "      <td>0000031887</td>\n",
       "      <td>5.0</td>\n",
       "      <td>02 12, 2011</td>\n",
       "      <td>1297468800</td>\n",
       "    </tr>\n",
       "    <tr>\n",
       "      <th>1</th>\n",
       "      <td>A2G5TCU2WDFZ65</td>\n",
       "      <td>0000031887</td>\n",
       "      <td>5.0</td>\n",
       "      <td>01 19, 2013</td>\n",
       "      <td>1358553600</td>\n",
       "    </tr>\n",
       "    <tr>\n",
       "      <th>2</th>\n",
       "      <td>A1RLQXYNCMWRWN</td>\n",
       "      <td>0000031887</td>\n",
       "      <td>5.0</td>\n",
       "      <td>01 4, 2013</td>\n",
       "      <td>1357257600</td>\n",
       "    </tr>\n",
       "    <tr>\n",
       "      <th>3</th>\n",
       "      <td>A8U3FAMSJVHS5</td>\n",
       "      <td>0000031887</td>\n",
       "      <td>5.0</td>\n",
       "      <td>04 27, 2014</td>\n",
       "      <td>1398556800</td>\n",
       "    </tr>\n",
       "    <tr>\n",
       "      <th>4</th>\n",
       "      <td>A3GEOILWLK86XM</td>\n",
       "      <td>0000031887</td>\n",
       "      <td>5.0</td>\n",
       "      <td>03 15, 2014</td>\n",
       "      <td>1394841600</td>\n",
       "    </tr>\n",
       "  </tbody>\n",
       "</table>\n",
       "</div>"
      ],
      "text/plain": [
       "          User_Id     Item_Id  Rating    TimeStamp  TimeStamp2\n",
       "0  A1KLRMWW2FWPL4  0000031887     5.0  02 12, 2011  1297468800\n",
       "1  A2G5TCU2WDFZ65  0000031887     5.0  01 19, 2013  1358553600\n",
       "2  A1RLQXYNCMWRWN  0000031887     5.0   01 4, 2013  1357257600\n",
       "3   A8U3FAMSJVHS5  0000031887     5.0  04 27, 2014  1398556800\n",
       "4  A3GEOILWLK86XM  0000031887     5.0  03 15, 2014  1394841600"
      ]
     },
     "execution_count": 10,
     "metadata": {},
     "output_type": "execute_result"
    }
   ],
   "source": [
    "user_item_data.head()"
   ]
  },
  {
   "cell_type": "code",
   "execution_count": 23,
   "metadata": {},
   "outputs": [],
   "source": [
    "import seaborn as sns\n",
    "import matplotlib.pyplot as plt"
   ]
  },
  {
   "cell_type": "markdown",
   "metadata": {},
   "source": [
    "### Count of each rating"
   ]
  },
  {
   "cell_type": "code",
   "execution_count": 12,
   "metadata": {},
   "outputs": [
    {
     "data": {
      "text/plain": [
       "<matplotlib.axes._subplots.AxesSubplot at 0x1af6e883be0>"
      ]
     },
     "execution_count": 12,
     "metadata": {},
     "output_type": "execute_result"
    },
    {
     "data": {
      "image/png": "[encoded data removed]",
      "text/plain": [
       "<Figure size 432x288 with 1 Axes>"
      ]
     },
     "metadata": {
      "needs_background": "light"
     },
     "output_type": "display_data"
    }
   ],
   "source": [
    "sns.countplot(x='Rating', data=user_item_data)"
   ]
  },
  {
   "cell_type": "markdown",
   "metadata": {},
   "source": [
    "#### Deduction: Users with positive experience (higher rating) are more likely to leave a review"
   ]
  },
  {
   "cell_type": "code",
   "execution_count": 13,
   "metadata": {},
   "outputs": [
    {
     "name": "stderr",
     "output_type": "stream",
     "text": [
      "C:\\Users\\Kiran\\AppData\\Local\\Continuum\\anaconda3\\envs\\env2\\lib\\site-packages\\ipykernel_launcher.py:1: SettingWithCopyWarning: \n",
      "A value is trying to be set on a copy of a slice from a DataFrame.\n",
      "Try using .loc[row_indexer,col_indexer] = value instead\n",
      "\n",
      "See the caveats in the documentation: http://pandas.pydata.org/pandas-docs/stable/indexing.html#indexing-view-versus-copy\n",
      "  \"\"\"Entry point for launching an IPython kernel.\n"
     ]
    }
   ],
   "source": [
    "user_item_data[\"Year\"] = user_item_data.apply(lambda row: row.TimeStamp[-4:], axis=1)"
   ]
  },
  {
   "cell_type": "code",
   "execution_count": 14,
   "metadata": {},
   "outputs": [
    {
     "data": {
      "text/html": [
       "<div>\n",
       "<style scoped>\n",
       "    .dataframe tbody tr th:only-of-type {\n",
       "        vertical-align: middle;\n",
       "    }\n",
       "\n",
       "    .dataframe tbody tr th {\n",
       "        vertical-align: top;\n",
       "    }\n",
       "\n",
       "    .dataframe thead th {\n",
       "        text-align: right;\n",
       "    }\n",
       "</style>\n",
       "<table border=\"1\" class=\"dataframe\">\n",
       "  <thead>\n",
       "    <tr style=\"text-align: right;\">\n",
       "      <th></th>\n",
       "      <th>User_Id</th>\n",
       "      <th>Item_Id</th>\n",
       "      <th>Rating</th>\n",
       "      <th>TimeStamp</th>\n",
       "      <th>TimeStamp2</th>\n",
       "      <th>Year</th>\n",
       "    </tr>\n",
       "  </thead>\n",
       "  <tbody>\n",
       "    <tr>\n",
       "      <th>0</th>\n",
       "      <td>A1KLRMWW2FWPL4</td>\n",
       "      <td>0000031887</td>\n",
       "      <td>5.0</td>\n",
       "      <td>02 12, 2011</td>\n",
       "      <td>1297468800</td>\n",
       "      <td>2011</td>\n",
       "    </tr>\n",
       "    <tr>\n",
       "      <th>1</th>\n",
       "      <td>A2G5TCU2WDFZ65</td>\n",
       "      <td>0000031887</td>\n",
       "      <td>5.0</td>\n",
       "      <td>01 19, 2013</td>\n",
       "      <td>1358553600</td>\n",
       "      <td>2013</td>\n",
       "    </tr>\n",
       "    <tr>\n",
       "      <th>2</th>\n",
       "      <td>A1RLQXYNCMWRWN</td>\n",
       "      <td>0000031887</td>\n",
       "      <td>5.0</td>\n",
       "      <td>01 4, 2013</td>\n",
       "      <td>1357257600</td>\n",
       "      <td>2013</td>\n",
       "    </tr>\n",
       "    <tr>\n",
       "      <th>3</th>\n",
       "      <td>A8U3FAMSJVHS5</td>\n",
       "      <td>0000031887</td>\n",
       "      <td>5.0</td>\n",
       "      <td>04 27, 2014</td>\n",
       "      <td>1398556800</td>\n",
       "      <td>2014</td>\n",
       "    </tr>\n",
       "    <tr>\n",
       "      <th>4</th>\n",
       "      <td>A3GEOILWLK86XM</td>\n",
       "      <td>0000031887</td>\n",
       "      <td>5.0</td>\n",
       "      <td>03 15, 2014</td>\n",
       "      <td>1394841600</td>\n",
       "      <td>2014</td>\n",
       "    </tr>\n",
       "  </tbody>\n",
       "</table>\n",
       "</div>"
      ],
      "text/plain": [
       "          User_Id     Item_Id  Rating    TimeStamp  TimeStamp2  Year\n",
       "0  A1KLRMWW2FWPL4  0000031887     5.0  02 12, 2011  1297468800  2011\n",
       "1  A2G5TCU2WDFZ65  0000031887     5.0  01 19, 2013  1358553600  2013\n",
       "2  A1RLQXYNCMWRWN  0000031887     5.0   01 4, 2013  1357257600  2013\n",
       "3   A8U3FAMSJVHS5  0000031887     5.0  04 27, 2014  1398556800  2014\n",
       "4  A3GEOILWLK86XM  0000031887     5.0  03 15, 2014  1394841600  2014"
      ]
     },
     "execution_count": 14,
     "metadata": {},
     "output_type": "execute_result"
    }
   ],
   "source": [
    "user_item_data.head()"
   ]
  },
  {
   "cell_type": "markdown",
   "metadata": {},
   "source": [
    "### Count of ratings in each year"
   ]
  },
  {
   "cell_type": "code",
   "execution_count": 15,
   "metadata": {},
   "outputs": [
    {
     "data": {
      "text/plain": [
       "<matplotlib.axes._subplots.AxesSubplot at 0x1af788aaf60>"
      ]
     },
     "execution_count": 15,
     "metadata": {},
     "output_type": "execute_result"
    },
    {
     "data": {
      "image/png": "[encoded data removed]",
      "text/plain": [
       "<Figure size 432x288 with 1 Axes>"
      ]
     },
     "metadata": {
      "needs_background": "light"
     },
     "output_type": "display_data"
    }
   ],
   "source": [
    "sns.countplot(x='Year', data=user_item_data)"
   ]
  },
  {
   "cell_type": "markdown",
   "metadata": {},
   "source": [
    "#### Deduction: The number of reviews increased over the years. The data was collected til July 2014 only. This explains the decrease for 2014."
   ]
  },
  {
   "cell_type": "markdown",
   "metadata": {},
   "source": [
    "### Count of each rating in each year"
   ]
  },
  {
   "cell_type": "code",
   "execution_count": 33,
   "metadata": {},
   "outputs": [
    {
     "data": {
      "text/plain": [
       "<seaborn.axisgrid.FacetGrid at 0x1af6cfb5710>"
      ]
     },
     "execution_count": 33,
     "metadata": {},
     "output_type": "execute_result"
    },
    {
     "data": {
      "image/png": "[encoded data removed]",
      "text/plain": [
       "<Figure size 691.2x1152 with 12 Axes>"
      ]
     },
     "metadata": {
      "needs_background": "light"
     },
     "output_type": "display_data"
    }
   ],
   "source": [
    "sns.catplot(\"Rating\", col=\"Year\", col_wrap=3, data=user_item_data,kind=\"count\", height=4, aspect=.8)"
   ]
  },
  {
   "cell_type": "markdown",
   "metadata": {},
   "source": [
    "#### Deduction: Users with positive experience (higher rating) are more likely to leave a review for all years "
   ]
  },
  {
   "cell_type": "markdown",
   "metadata": {},
   "source": [
    "### Count of each rating for subset of 10 most frequently rated items"
   ]
  },
  {
   "cell_type": "code",
   "execution_count": 44,
   "metadata": {},
   "outputs": [
    {
     "data": {
      "text/html": [
       "<div>\n",
       "<style scoped>\n",
       "    .dataframe tbody tr th:only-of-type {\n",
       "        vertical-align: middle;\n",
       "    }\n",
       "\n",
       "    .dataframe tbody tr th {\n",
       "        vertical-align: top;\n",
       "    }\n",
       "\n",
       "    .dataframe thead th {\n",
       "        text-align: right;\n",
       "    }\n",
       "</style>\n",
       "<table border=\"1\" class=\"dataframe\">\n",
       "  <thead>\n",
       "    <tr style=\"text-align: right;\">\n",
       "      <th></th>\n",
       "      <th>Item_Id</th>\n",
       "      <th>Rating</th>\n",
       "    </tr>\n",
       "  </thead>\n",
       "  <tbody>\n",
       "    <tr>\n",
       "      <th>12527</th>\n",
       "      <td>B005LERHD8</td>\n",
       "      <td>441</td>\n",
       "    </tr>\n",
       "    <tr>\n",
       "      <th>12240</th>\n",
       "      <td>B005GYGD7O</td>\n",
       "      <td>286</td>\n",
       "    </tr>\n",
       "    <tr>\n",
       "      <th>17552</th>\n",
       "      <td>B008WYDP1C</td>\n",
       "      <td>249</td>\n",
       "    </tr>\n",
       "    <tr>\n",
       "      <th>11497</th>\n",
       "      <td>B0058XIMMM</td>\n",
       "      <td>241</td>\n",
       "    </tr>\n",
       "    <tr>\n",
       "      <th>20954</th>\n",
       "      <td>B00CKGB85I</td>\n",
       "      <td>225</td>\n",
       "    </tr>\n",
       "    <tr>\n",
       "      <th>15205</th>\n",
       "      <td>B007RD9DS8</td>\n",
       "      <td>217</td>\n",
       "    </tr>\n",
       "    <tr>\n",
       "      <th>6282</th>\n",
       "      <td>B002RADHJC</td>\n",
       "      <td>211</td>\n",
       "    </tr>\n",
       "    <tr>\n",
       "      <th>2676</th>\n",
       "      <td>B000T9VK56</td>\n",
       "      <td>207</td>\n",
       "    </tr>\n",
       "    <tr>\n",
       "      <th>112</th>\n",
       "      <td>B0000C321X</td>\n",
       "      <td>205</td>\n",
       "    </tr>\n",
       "    <tr>\n",
       "      <th>252</th>\n",
       "      <td>B0001ZNZJM</td>\n",
       "      <td>197</td>\n",
       "    </tr>\n",
       "  </tbody>\n",
       "</table>\n",
       "</div>"
      ],
      "text/plain": [
       "          Item_Id  Rating\n",
       "12527  B005LERHD8     441\n",
       "12240  B005GYGD7O     286\n",
       "17552  B008WYDP1C     249\n",
       "11497  B0058XIMMM     241\n",
       "20954  B00CKGB85I     225\n",
       "15205  B007RD9DS8     217\n",
       "6282   B002RADHJC     211\n",
       "2676   B000T9VK56     207\n",
       "112    B0000C321X     205\n",
       "252    B0001ZNZJM     197"
      ]
     },
     "execution_count": 44,
     "metadata": {},
     "output_type": "execute_result"
    }
   ],
   "source": [
    "top_10_item = user_item_data.groupby(['Item_Id'])['Rating'].count().reset_index().sort_values(['Rating'], ascending=False) .head(10)\n",
    "top_10_item"
   ]
  },
  {
   "cell_type": "code",
   "execution_count": 51,
   "metadata": {},
   "outputs": [
    {
     "data": {
      "text/plain": [
       "['B005LERHD8',\n",
       " 'B005GYGD7O',\n",
       " 'B008WYDP1C',\n",
       " 'B0058XIMMM',\n",
       " 'B00CKGB85I',\n",
       " 'B007RD9DS8',\n",
       " 'B002RADHJC',\n",
       " 'B000T9VK56',\n",
       " 'B0000C321X',\n",
       " 'B0001ZNZJM']"
      ]
     },
     "execution_count": 51,
     "metadata": {},
     "output_type": "execute_result"
    }
   ],
   "source": [
    "top10_item = top_10_item[\"Item_Id\"].tolist()\n",
    "top10_item"
   ]
  },
  {
   "cell_type": "code",
   "execution_count": 56,
   "metadata": {},
   "outputs": [
    {
     "data": {
      "text/plain": [
       "<matplotlib.axes._subplots.AxesSubplot at 0x1af6d881390>"
      ]
     },
     "execution_count": 56,
     "metadata": {},
     "output_type": "execute_result"
    },
    {
     "data": {
      "image/png": "[encoded data removed]",
      "text/plain": [
       "<Figure size 432x288 with 1 Axes>"
      ]
     },
     "metadata": {
      "needs_background": "light"
     },
     "output_type": "display_data"
    }
   ],
   "source": [
    "sns.countplot(x='Rating', data=user_item_data.loc[user_item_data[\"Item_Id\"].isin(top10_item)])"
   ]
  },
  {
   "cell_type": "markdown",
   "metadata": {},
   "source": [
    "#### Deduction: The most frequently rated items follow the same pattern as set of all items. Users are more likely rate an item when they have a positive experience."
   ]
  },
  {
   "cell_type": "markdown",
   "metadata": {},
   "source": [
    "### Count of each rating for subset of 10 most frequent users"
   ]
  },
  {
   "cell_type": "code",
   "execution_count": 57,
   "metadata": {},
   "outputs": [
    {
     "data": {
      "text/html": [
       "<div>\n",
       "<style scoped>\n",
       "    .dataframe tbody tr th:only-of-type {\n",
       "        vertical-align: middle;\n",
       "    }\n",
       "\n",
       "    .dataframe tbody tr th {\n",
       "        vertical-align: top;\n",
       "    }\n",
       "\n",
       "    .dataframe thead th {\n",
       "        text-align: right;\n",
       "    }\n",
       "</style>\n",
       "<table border=\"1\" class=\"dataframe\">\n",
       "  <thead>\n",
       "    <tr style=\"text-align: right;\">\n",
       "      <th></th>\n",
       "      <th>User_Id</th>\n",
       "      <th>Rating</th>\n",
       "    </tr>\n",
       "  </thead>\n",
       "  <tbody>\n",
       "    <tr>\n",
       "      <th>15966</th>\n",
       "      <td>A2J4XMWKR8PPD0</td>\n",
       "      <td>136</td>\n",
       "    </tr>\n",
       "    <tr>\n",
       "      <th>15158</th>\n",
       "      <td>A2GA55P7WGHJCP</td>\n",
       "      <td>76</td>\n",
       "    </tr>\n",
       "    <tr>\n",
       "      <th>16313</th>\n",
       "      <td>A2KBV88FL48CFS</td>\n",
       "      <td>69</td>\n",
       "    </tr>\n",
       "    <tr>\n",
       "      <th>33263</th>\n",
       "      <td>AENH50GW3OKDA</td>\n",
       "      <td>68</td>\n",
       "    </tr>\n",
       "    <tr>\n",
       "      <th>19500</th>\n",
       "      <td>A2V5R832QCSOMX</td>\n",
       "      <td>62</td>\n",
       "    </tr>\n",
       "    <tr>\n",
       "      <th>38253</th>\n",
       "      <td>AVUJP7Z6BNT11</td>\n",
       "      <td>61</td>\n",
       "    </tr>\n",
       "    <tr>\n",
       "      <th>917</th>\n",
       "      <td>A132ETQPMHQ585</td>\n",
       "      <td>60</td>\n",
       "    </tr>\n",
       "    <tr>\n",
       "      <th>15280</th>\n",
       "      <td>A2GP4EJIAA2OE0</td>\n",
       "      <td>59</td>\n",
       "    </tr>\n",
       "    <tr>\n",
       "      <th>19359</th>\n",
       "      <td>A2UO040HWOP0C2</td>\n",
       "      <td>59</td>\n",
       "    </tr>\n",
       "    <tr>\n",
       "      <th>6144</th>\n",
       "      <td>A1LM4PSE0HJQDW</td>\n",
       "      <td>55</td>\n",
       "    </tr>\n",
       "  </tbody>\n",
       "</table>\n",
       "</div>"
      ],
      "text/plain": [
       "              User_Id  Rating\n",
       "15966  A2J4XMWKR8PPD0     136\n",
       "15158  A2GA55P7WGHJCP      76\n",
       "16313  A2KBV88FL48CFS      69\n",
       "33263   AENH50GW3OKDA      68\n",
       "19500  A2V5R832QCSOMX      62\n",
       "38253   AVUJP7Z6BNT11      61\n",
       "917    A132ETQPMHQ585      60\n",
       "15280  A2GP4EJIAA2OE0      59\n",
       "19359  A2UO040HWOP0C2      59\n",
       "6144   A1LM4PSE0HJQDW      55"
      ]
     },
     "execution_count": 57,
     "metadata": {},
     "output_type": "execute_result"
    }
   ],
   "source": [
    "top_10_user = user_item_data.groupby(['User_Id'])['Rating'].count().reset_index().sort_values(['Rating'], ascending=False) .head(10)\n",
    "top_10_user"
   ]
  },
  {
   "cell_type": "code",
   "execution_count": 58,
   "metadata": {},
   "outputs": [
    {
     "data": {
      "text/plain": [
       "['A2J4XMWKR8PPD0',\n",
       " 'A2GA55P7WGHJCP',\n",
       " 'A2KBV88FL48CFS',\n",
       " 'AENH50GW3OKDA',\n",
       " 'A2V5R832QCSOMX',\n",
       " 'AVUJP7Z6BNT11',\n",
       " 'A132ETQPMHQ585',\n",
       " 'A2GP4EJIAA2OE0',\n",
       " 'A2UO040HWOP0C2',\n",
       " 'A1LM4PSE0HJQDW']"
      ]
     },
     "execution_count": 58,
     "metadata": {},
     "output_type": "execute_result"
    }
   ],
   "source": [
    "top10_user = top_10_user[\"User_Id\"].tolist()\n",
    "top10_user"
   ]
  },
  {
   "cell_type": "code",
   "execution_count": 60,
   "metadata": {},
   "outputs": [
    {
     "data": {
      "text/plain": [
       "<matplotlib.axes._subplots.AxesSubplot at 0x1af775349e8>"
      ]
     },
     "execution_count": 60,
     "metadata": {},
     "output_type": "execute_result"
    },
    {
     "data": {
      "image/png": "[encoded data removed]",
      "text/plain": [
       "<Figure size 432x288 with 1 Axes>"
      ]
     },
     "metadata": {
      "needs_background": "light"
     },
     "output_type": "display_data"
    }
   ],
   "source": [
    "sns.countplot(x='Rating', data=user_item_data.loc[user_item_data[\"User_Id\"].isin(top10_user)])"
   ]
  },
  {
   "cell_type": "markdown",
   "metadata": {},
   "source": [
    "#### Deduction: The most frequent users subset follow the same pattern as set of all items. Users are more likely rate an item when they have a positive experience."
   ]
  },
  {
   "cell_type": "markdown",
   "metadata": {},
   "source": [
    "### Count of ratings for subset of top 10 items with rating 5"
   ]
  },
  {
   "cell_type": "code",
   "execution_count": 63,
   "metadata": {},
   "outputs": [
    {
     "data": {
      "text/html": [
       "<div>\n",
       "<style scoped>\n",
       "    .dataframe tbody tr th:only-of-type {\n",
       "        vertical-align: middle;\n",
       "    }\n",
       "\n",
       "    .dataframe tbody tr th {\n",
       "        vertical-align: top;\n",
       "    }\n",
       "\n",
       "    .dataframe thead th {\n",
       "        text-align: right;\n",
       "    }\n",
       "</style>\n",
       "<table border=\"1\" class=\"dataframe\">\n",
       "  <thead>\n",
       "    <tr style=\"text-align: right;\">\n",
       "      <th></th>\n",
       "      <th>Item_Id</th>\n",
       "      <th>Rating</th>\n",
       "    </tr>\n",
       "  </thead>\n",
       "  <tbody>\n",
       "    <tr>\n",
       "      <th>12418</th>\n",
       "      <td>B005LERHD8</td>\n",
       "      <td>259</td>\n",
       "    </tr>\n",
       "    <tr>\n",
       "      <th>11400</th>\n",
       "      <td>B0058XIMMM</td>\n",
       "      <td>187</td>\n",
       "    </tr>\n",
       "    <tr>\n",
       "      <th>12136</th>\n",
       "      <td>B005GYGD7O</td>\n",
       "      <td>165</td>\n",
       "    </tr>\n",
       "    <tr>\n",
       "      <th>17381</th>\n",
       "      <td>B008WYDP1C</td>\n",
       "      <td>150</td>\n",
       "    </tr>\n",
       "    <tr>\n",
       "      <th>14917</th>\n",
       "      <td>B007NLX16O</td>\n",
       "      <td>135</td>\n",
       "    </tr>\n",
       "    <tr>\n",
       "      <th>2247</th>\n",
       "      <td>B000O32MLI</td>\n",
       "      <td>135</td>\n",
       "    </tr>\n",
       "    <tr>\n",
       "      <th>251</th>\n",
       "      <td>B0001ZNZJM</td>\n",
       "      <td>135</td>\n",
       "    </tr>\n",
       "    <tr>\n",
       "      <th>757</th>\n",
       "      <td>B0008EOEPK</td>\n",
       "      <td>131</td>\n",
       "    </tr>\n",
       "    <tr>\n",
       "      <th>111</th>\n",
       "      <td>B0000C321X</td>\n",
       "      <td>128</td>\n",
       "    </tr>\n",
       "    <tr>\n",
       "      <th>16821</th>\n",
       "      <td>B008KK0ZJ8</td>\n",
       "      <td>126</td>\n",
       "    </tr>\n",
       "  </tbody>\n",
       "</table>\n",
       "</div>"
      ],
      "text/plain": [
       "          Item_Id  Rating\n",
       "12418  B005LERHD8     259\n",
       "11400  B0058XIMMM     187\n",
       "12136  B005GYGD7O     165\n",
       "17381  B008WYDP1C     150\n",
       "14917  B007NLX16O     135\n",
       "2247   B000O32MLI     135\n",
       "251    B0001ZNZJM     135\n",
       "757    B0008EOEPK     131\n",
       "111    B0000C321X     128\n",
       "16821  B008KK0ZJ8     126"
      ]
     },
     "execution_count": 63,
     "metadata": {},
     "output_type": "execute_result"
    }
   ],
   "source": [
    "top_10_item5 =user_item_data.loc[user_item_data[\"Rating\"] == 5.0].groupby(['Item_Id'])['Rating'].count().reset_index().sort_values(['Rating'], ascending=False) .head(10)\n",
    "top_10_item5"
   ]
  },
  {
   "cell_type": "code",
   "execution_count": 64,
   "metadata": {},
   "outputs": [
    {
     "data": {
      "text/plain": [
       "['B005LERHD8',\n",
       " 'B0058XIMMM',\n",
       " 'B005GYGD7O',\n",
       " 'B008WYDP1C',\n",
       " 'B007NLX16O',\n",
       " 'B000O32MLI',\n",
       " 'B0001ZNZJM',\n",
       " 'B0008EOEPK',\n",
       " 'B0000C321X',\n",
       " 'B008KK0ZJ8']"
      ]
     },
     "execution_count": 64,
     "metadata": {},
     "output_type": "execute_result"
    }
   ],
   "source": [
    "top10_item5 = top_10_item5[\"Item_Id\"].tolist()\n",
    "top10_item5"
   ]
  },
  {
   "cell_type": "code",
   "execution_count": 65,
   "metadata": {},
   "outputs": [
    {
     "data": {
      "text/plain": [
       "<matplotlib.axes._subplots.AxesSubplot at 0x1af7d638e48>"
      ]
     },
     "execution_count": 65,
     "metadata": {},
     "output_type": "execute_result"
    },
    {
     "data": {
      "image/png": "[encoded data removed]",
      "text/plain": [
       "<Figure size 432x288 with 1 Axes>"
      ]
     },
     "metadata": {
      "needs_background": "light"
     },
     "output_type": "display_data"
    }
   ],
   "source": [
    "sns.countplot(x='Rating', data=user_item_data.loc[user_item_data[\"Item_Id\"].isin(top10_item5)])"
   ]
  },
  {
   "cell_type": "markdown",
   "metadata": {},
   "source": [
    "#### Deduction: There is an overlap between items with most ratings and items with most 5 ratings. The pattern still remains the same. Users are more likely to rate items when they have a positive experience. But even the items with maximum positive reviews have bad reviews. "
   ]
  },
  {
   "cell_type": "code",
   "execution_count": null,
   "metadata": {},
   "outputs": [],
   "source": []
  }
 ],
 "metadata": {
  "kernelspec": {
   "display_name": "env2",
   "language": "python",
   "name": "env2"
  },
  "language_info": {
   "codemirror_mode": {
    "name": "ipython",
    "version": 3
   },
   "file_extension": ".py",
   "mimetype": "text/x-python",
   "name": "python",
   "nbconvert_exporter": "python",
   "pygments_lexer": "ipython3",
   "version": "3.6.6"
  }
 },
 "nbformat": 4,
 "nbformat_minor": 2
}
